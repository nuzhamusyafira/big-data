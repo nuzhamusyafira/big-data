{
 "cells": [
  {
   "cell_type": "markdown",
   "metadata": {},
   "source": [
    "## Initialization"
   ]
  },
  {
   "cell_type": "code",
   "execution_count": 1,
   "metadata": {},
   "outputs": [],
   "source": [
    "# import findspark\n",
    "import findspark\n",
    "findspark.init()"
   ]
  },
  {
   "cell_type": "code",
   "execution_count": 2,
   "metadata": {},
   "outputs": [],
   "source": [
    "# import SparkSession\n",
    "from pyspark.sql import SparkSession"
   ]
  },
  {
   "cell_type": "code",
   "execution_count": 3,
   "metadata": {},
   "outputs": [],
   "source": [
    "# create session\n",
    "spark = SparkSession \\\n",
    "    .builder \\\n",
    "    .appName(\"Python Spark SQL basic example\") \\\n",
    "    .getOrCreate()"
   ]
  },
  {
   "cell_type": "code",
   "execution_count": 4,
   "metadata": {},
   "outputs": [
    {
     "name": "stdout",
     "output_type": "stream",
     "text": [
      "<pyspark.sql.session.SparkSession object at 0x000000AAFCE7AEB8>\n"
     ]
    }
   ],
   "source": [
    "print(spark)"
   ]
  },
  {
   "cell_type": "code",
   "execution_count": 5,
   "metadata": {},
   "outputs": [],
   "source": [
    "# read dataset\n",
    "df = spark.read.csv(\"new_york_tree_census_1995.csv\", header=True, inferSchema=True)"
   ]
  },
  {
   "cell_type": "code",
   "execution_count": 6,
   "metadata": {},
   "outputs": [
    {
     "data": {
      "text/plain": [
       "Row(recordid=433600, address='73-031 57 AV', house_number='73-031', street='57 AV', zip_original=11378, cb_original=405, site='Front', species='QUPA', diameter=6, status='Good', wires='Yes', sidewalk_condition='Good', support_structure='None', borough='Queens', x=1015198.8, y=204725.3752, longitude=-73.888337, latitude=40.728546, cb_new=405, zip_new=11378, censustract_2010='49302', censusblock_2010='2000', nta_2010='QN30', segmentid=74525, spc_common='OAK PIN', spc_latin='QUERCUS PALUSTRIS', location='(40.728546 -73.888337)')"
      ]
     },
     "execution_count": 6,
     "metadata": {},
     "output_type": "execute_result"
    }
   ],
   "source": [
    "# find out attributes\n",
    "df.head()"
   ]
  },
  {
   "cell_type": "code",
   "execution_count": 7,
   "metadata": {},
   "outputs": [
    {
     "data": {
      "text/plain": [
       "StructType(List(StructField(recordid,IntegerType,true),StructField(address,StringType,true),StructField(house_number,StringType,true),StructField(street,StringType,true),StructField(zip_original,IntegerType,true),StructField(cb_original,IntegerType,true),StructField(site,StringType,true),StructField(species,StringType,true),StructField(diameter,IntegerType,true),StructField(status,StringType,true),StructField(wires,StringType,true),StructField(sidewalk_condition,StringType,true),StructField(support_structure,StringType,true),StructField(borough,StringType,true),StructField(x,DoubleType,true),StructField(y,DoubleType,true),StructField(longitude,DoubleType,true),StructField(latitude,DoubleType,true),StructField(cb_new,IntegerType,true),StructField(zip_new,IntegerType,true),StructField(censustract_2010,StringType,true),StructField(censusblock_2010,StringType,true),StructField(nta_2010,StringType,true),StructField(segmentid,IntegerType,true),StructField(spc_common,StringType,true),StructField(spc_latin,StringType,true),StructField(location,StringType,true)))"
      ]
     },
     "execution_count": 7,
     "metadata": {},
     "output_type": "execute_result"
    }
   ],
   "source": [
    "# find out each schema\n",
    "df.schema"
   ]
  },
  {
   "cell_type": "code",
   "execution_count": 8,
   "metadata": {},
   "outputs": [],
   "source": [
    "# create alias table to work on as 'trees'\n",
    "df.createOrReplaceTempView(\"trees\")"
   ]
  },
  {
   "cell_type": "markdown",
   "metadata": {},
   "source": [
    "## Clustering and Visualization"
   ]
  },
  {
   "cell_type": "markdown",
   "metadata": {},
   "source": [
    "### 1. Show the address of tree and its species that touches wires (power line) and has diameter >= 25 along with its location (in latitude, longitude)"
   ]
  },
  {
   "cell_type": "code",
   "execution_count": 9,
   "metadata": {},
   "outputs": [
    {
     "name": "stdout",
     "output_type": "stream",
     "text": [
      "+------------------+-------+---------+----------+\n",
      "|           address|species| latitude| longitude|\n",
      "+------------------+-------+---------+----------+\n",
      "|    1 ASPINWALL ST|   PLAC|40.508272| -74.24948|\n",
      "|     1 BELMONT TER|  ACSA1| 40.64403|-74.081925|\n",
      "|     1 CARTERET ST|   PLAC|40.508581| -74.24847|\n",
      "|   1 CONYINGHAM AV|   PLAC|40.637347|-74.103132|\n",
      "|        1 E 233 ST|   QUPA|40.895179|-73.879776|\n",
      "|       1 HOWARD CT|   TICO|40.641171|-74.113487|\n",
      "|      1 POILLON AV|  ACSA1|40.536939|-74.179641|\n",
      "|       1 SEWARD PL|   ACRU|40.613763|-74.135066|\n",
      "|        1 SMITH CT|   ACRU|40.615023|-74.132941|\n",
      "|1-016 PARSONS BLVD|  ACSA1| 40.79595|-73.827447|\n",
      "|          10 77 ST|   PLAC| 40.63219|-74.037495|\n",
      "|      10 AUBURN AV|  ACSA1|40.611484|-74.143056|\n",
      "|     10 COLLEGE AV|   QUPA| 40.62224|-74.121088|\n",
      "|   10 ELIZABETH AV|   TICO|40.641606|-74.112483|\n",
      "|      10 FLOWER AV|  ACSA1| 40.50683|-74.224136|\n",
      "|    10 GLENWOOD AV|  ACSA1|40.619095|-74.099161|\n",
      "|   10 GRASSMERE DR|  ACSA1|40.601857|-74.084278|\n",
      "|    10 LAWRENCE AV|   PLAC| 40.63008|-74.107413|\n",
      "|       10 LLOYD CT|   ACPL|40.602733|-73.975465|\n",
      "|  10 MAC DONALD CT|   QUPA|40.499359|-74.250024|\n",
      "+------------------+-------+---------+----------+\n",
      "only showing top 20 rows\n",
      "\n"
     ]
    }
   ],
   "source": [
    "query1 = spark.sql(\"SELECT DISTINCT address, species, latitude, longitude\\\n",
    "                    FROM trees\\\n",
    "                    WHERE wires <> 'None' AND diameter >= 25\\\n",
    "                    ORDER BY address\")\n",
    "query1.show()"
   ]
  },
  {
   "cell_type": "code",
   "execution_count": 10,
   "metadata": {},
   "outputs": [
    {
     "data": {
      "text/plain": [
       "15982"
      ]
     },
     "execution_count": 10,
     "metadata": {},
     "output_type": "execute_result"
    }
   ],
   "source": [
    "# find out the length of query records\n",
    "query1.count()"
   ]
  },
  {
   "cell_type": "code",
   "execution_count": 11,
   "metadata": {},
   "outputs": [
    {
     "name": "stdout",
     "output_type": "stream",
     "text": [
      "+------------------+-------+---------+----------+--------------------+\n",
      "|           address|species| latitude| longitude|            features|\n",
      "+------------------+-------+---------+----------+--------------------+\n",
      "|    1 ASPINWALL ST|   PLAC|40.508272| -74.24948|[40.508272,-74.24...|\n",
      "|     1 BELMONT TER|  ACSA1| 40.64403|-74.081925|[40.64403,-74.081...|\n",
      "|     1 CARTERET ST|   PLAC|40.508581| -74.24847|[40.508581,-74.24...|\n",
      "|   1 CONYINGHAM AV|   PLAC|40.637347|-74.103132|[40.637347,-74.10...|\n",
      "|        1 E 233 ST|   QUPA|40.895179|-73.879776|[40.895179,-73.87...|\n",
      "|       1 HOWARD CT|   TICO|40.641171|-74.113487|[40.641171,-74.11...|\n",
      "|      1 POILLON AV|  ACSA1|40.536939|-74.179641|[40.536939,-74.17...|\n",
      "|       1 SEWARD PL|   ACRU|40.613763|-74.135066|[40.613763,-74.13...|\n",
      "|        1 SMITH CT|   ACRU|40.615023|-74.132941|[40.615023,-74.13...|\n",
      "|1-016 PARSONS BLVD|  ACSA1| 40.79595|-73.827447|[40.79595,-73.827...|\n",
      "|          10 77 ST|   PLAC| 40.63219|-74.037495|[40.63219,-74.037...|\n",
      "|      10 AUBURN AV|  ACSA1|40.611484|-74.143056|[40.611484,-74.14...|\n",
      "|     10 COLLEGE AV|   QUPA| 40.62224|-74.121088|[40.62224,-74.121...|\n",
      "|   10 ELIZABETH AV|   TICO|40.641606|-74.112483|[40.641606,-74.11...|\n",
      "|      10 FLOWER AV|  ACSA1| 40.50683|-74.224136|[40.50683,-74.224...|\n",
      "|    10 GLENWOOD AV|  ACSA1|40.619095|-74.099161|[40.619095,-74.09...|\n",
      "|   10 GRASSMERE DR|  ACSA1|40.601857|-74.084278|[40.601857,-74.08...|\n",
      "|    10 LAWRENCE AV|   PLAC| 40.63008|-74.107413|[40.63008,-74.107...|\n",
      "|       10 LLOYD CT|   ACPL|40.602733|-73.975465|[40.602733,-73.97...|\n",
      "|  10 MAC DONALD CT|   QUPA|40.499359|-74.250024|[40.499359,-74.25...|\n",
      "+------------------+-------+---------+----------+--------------------+\n",
      "only showing top 20 rows\n",
      "\n"
     ]
    }
   ],
   "source": [
    "# converting latitude and longitude into vector\n",
    "from pyspark.ml.feature import VectorAssembler\n",
    "\n",
    "assembler = VectorAssembler(\n",
    "    inputCols=[\"latitude\", \"longitude\"],\n",
    "    outputCol='features')\n",
    "\n",
    "query1 = assembler.transform(query1)\n",
    "query1.show()"
   ]
  },
  {
   "cell_type": "code",
   "execution_count": 12,
   "metadata": {},
   "outputs": [],
   "source": [
    "# train model to cluster\n",
    "from pyspark.ml.clustering import KMeans\n",
    "from pyspark.ml.evaluation import ClusteringEvaluator\n",
    "\n",
    "kmeans = KMeans().setK(5).setSeed(1)\n",
    "model = kmeans.fit(query1)"
   ]
  },
  {
   "cell_type": "code",
   "execution_count": 13,
   "metadata": {},
   "outputs": [
    {
     "name": "stdout",
     "output_type": "stream",
     "text": [
      "+---------------+-------+---------+----------+--------------------+----------+\n",
      "|        address|species| latitude| longitude|            features|prediction|\n",
      "+---------------+-------+---------+----------+--------------------+----------+\n",
      "| 1 ASPINWALL ST|   PLAC|40.508272| -74.24948|[40.508272,-74.24...|         3|\n",
      "|  1 BELMONT TER|  ACSA1| 40.64403|-74.081925|[40.64403,-74.081...|         3|\n",
      "|  1 CARTERET ST|   PLAC|40.508581| -74.24847|[40.508581,-74.24...|         3|\n",
      "|1 CONYINGHAM AV|   PLAC|40.637347|-74.103132|[40.637347,-74.10...|         3|\n",
      "|     1 E 233 ST|   QUPA|40.895179|-73.879776|[40.895179,-73.87...|         0|\n",
      "+---------------+-------+---------+----------+--------------------+----------+\n",
      "only showing top 5 rows\n",
      "\n"
     ]
    }
   ],
   "source": [
    "# predict and show result\n",
    "predictions = model.transform(query1)\n",
    "predictions.show(5)"
   ]
  },
  {
   "cell_type": "code",
   "execution_count": 14,
   "metadata": {},
   "outputs": [
    {
     "name": "stdout",
     "output_type": "stream",
     "text": [
      "Silhouette with squared euclidean distance = 0.6431373308883238\n"
     ]
    }
   ],
   "source": [
    "# evaluate clustering by computing Silhouette score\n",
    "evaluator = ClusteringEvaluator()\n",
    "\n",
    "silhouette = evaluator.evaluate(predictions)\n",
    "print(\"Silhouette with squared euclidean distance = \" + str(silhouette))"
   ]
  },
  {
   "cell_type": "code",
   "execution_count": 15,
   "metadata": {},
   "outputs": [
    {
     "name": "stdout",
     "output_type": "stream",
     "text": [
      "Cluster Centers: \n",
      "[ 40.78884611 -73.84890249]\n",
      "[1. 1.]\n",
      "[ 40.70260655 -73.79337388]\n",
      "[ 40.59979726 -74.12059094]\n",
      "[ 40.62616738 -73.95302096]\n"
     ]
    }
   ],
   "source": [
    "# shows the result\n",
    "centers = model.clusterCenters()\n",
    "print(\"Cluster Centers: \")\n",
    "for center in centers:\n",
    "    print(center)"
   ]
  },
  {
   "cell_type": "code",
   "execution_count": 16,
   "metadata": {},
   "outputs": [
    {
     "name": "stdout",
     "output_type": "stream",
     "text": [
      "Pixiedust database opened successfully\n"
     ]
    },
    {
     "data": {
      "text/html": [
       "\n",
       "        <div style=\"margin:10px\">\n",
       "            <a href=\"https://github.com/ibm-watson-data-lab/pixiedust\" target=\"_new\">\n",
       "                <img src=\"https://github.com/ibm-watson-data-lab/pixiedust/raw/master/docs/_static/pd_icon32.png\" style=\"float:left;margin-right:10px\"/>\n",
       "            </a>\n",
       "            <span>Pixiedust version 1.1.15</span>\n",
       "        </div>\n",
       "        "
      ],
      "text/plain": [
       "<IPython.core.display.HTML object>"
      ]
     },
     "metadata": {},
     "output_type": "display_data"
    }
   ],
   "source": [
    "# visualization using pixiedust\n",
    "import pixiedust"
   ]
  },
  {
   "cell_type": "code",
   "execution_count": null,
   "metadata": {
    "pixiedust": {
     "displayParams": {
      "basemap": "outdoors-v9",
      "chartsize": "100",
      "coloropacity": "100",
      "colorrampname": "Green to Purple",
      "custombasecolorsecondary": "#ff8000",
      "handlerId": "mapView",
      "keyFields": "latitude,longitude",
      "kind": "choropleth",
      "mapboxtoken": "pk.eyJ1IjoibWFwYm94IiwiYSI6ImNpejY4M29iazA2Z2gycXA4N2pmbDZmangifQ.-g_vE53SD2WrJ6tFX7QHmA",
      "title": "Big Trees Touching Wires",
      "valueFields": "prediction"
     }
    }
   },
   "outputs": [
    {
     "data": {
      "text/html": [
       "<style type=\"text/css\">.pd_warning{display:none;}</style><div class=\"pd_warning\"><em>Hey, there's something awesome here! To see it, open this notebook outside GitHub, in a viewer like Jupyter</em></div>"
      ],
      "text/plain": [
       "<IPython.core.display.HTML object>"
      ]
     },
     "metadata": {},
     "output_type": "display_data"
    }
   ],
   "source": [
    "display(predictions)"
   ]
  },
  {
   "cell_type": "markdown",
   "metadata": {},
   "source": [
    "### Visualization Result\n",
    "\n",
    "Showing first 100 rows in clusters:\n",
    "\n",
    "![Clustering](img/cluster-1.jpg)"
   ]
  }
 ],
 "metadata": {
  "kernelspec": {
   "display_name": "Python 3",
   "language": "python",
   "name": "python3"
  },
  "language_info": {
   "codemirror_mode": {
    "name": "ipython",
    "version": 3
   },
   "file_extension": ".py",
   "mimetype": "text/x-python",
   "name": "python",
   "nbconvert_exporter": "python",
   "pygments_lexer": "ipython3",
   "version": "3.5.4"
  }
 },
 "nbformat": 4,
 "nbformat_minor": 2
}
