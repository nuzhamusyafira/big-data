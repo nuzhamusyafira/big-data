{
 "cells": [
  {
   "cell_type": "markdown",
   "metadata": {},
   "source": [
    "## Initialization"
   ]
  },
  {
   "cell_type": "code",
   "execution_count": 1,
   "metadata": {},
   "outputs": [],
   "source": [
    "# import findspark\n",
    "import findspark\n",
    "findspark.init()"
   ]
  },
  {
   "cell_type": "code",
   "execution_count": 2,
   "metadata": {},
   "outputs": [],
   "source": [
    "# import SparkSession\n",
    "from pyspark.sql import SparkSession"
   ]
  },
  {
   "cell_type": "code",
   "execution_count": 3,
   "metadata": {},
   "outputs": [],
   "source": [
    "# create session\n",
    "spark = SparkSession \\\n",
    "    .builder \\\n",
    "    .appName(\"Python Spark SQL basic example\") \\\n",
    "    .getOrCreate()"
   ]
  },
  {
   "cell_type": "code",
   "execution_count": 4,
   "metadata": {},
   "outputs": [
    {
     "name": "stdout",
     "output_type": "stream",
     "text": [
      "<pyspark.sql.session.SparkSession object at 0x000000AAFCE7AEB8>\n"
     ]
    }
   ],
   "source": [
    "print(spark)"
   ]
  },
  {
   "cell_type": "code",
   "execution_count": 5,
   "metadata": {},
   "outputs": [],
   "source": [
    "# read dataset\n",
    "df = spark.read.csv(\"new_york_tree_census_1995.csv\", header=True, inferSchema=True)"
   ]
  },
  {
   "cell_type": "code",
   "execution_count": 6,
   "metadata": {},
   "outputs": [
    {
     "data": {
      "text/plain": [
       "Row(recordid=433600, address='73-031 57 AV', house_number='73-031', street='57 AV', zip_original=11378, cb_original=405, site='Front', species='QUPA', diameter=6, status='Good', wires='Yes', sidewalk_condition='Good', support_structure='None', borough='Queens', x=1015198.8, y=204725.3752, longitude=-73.888337, latitude=40.728546, cb_new=405, zip_new=11378, censustract_2010='49302', censusblock_2010='2000', nta_2010='QN30', segmentid=74525, spc_common='OAK PIN', spc_latin='QUERCUS PALUSTRIS', location='(40.728546 -73.888337)')"
      ]
     },
     "execution_count": 6,
     "metadata": {},
     "output_type": "execute_result"
    }
   ],
   "source": [
    "# find out attributes\n",
    "df.head()"
   ]
  },
  {
   "cell_type": "code",
   "execution_count": 7,
   "metadata": {},
   "outputs": [
    {
     "data": {
      "text/plain": [
       "StructType(List(StructField(recordid,IntegerType,true),StructField(address,StringType,true),StructField(house_number,StringType,true),StructField(street,StringType,true),StructField(zip_original,IntegerType,true),StructField(cb_original,IntegerType,true),StructField(site,StringType,true),StructField(species,StringType,true),StructField(diameter,IntegerType,true),StructField(status,StringType,true),StructField(wires,StringType,true),StructField(sidewalk_condition,StringType,true),StructField(support_structure,StringType,true),StructField(borough,StringType,true),StructField(x,DoubleType,true),StructField(y,DoubleType,true),StructField(longitude,DoubleType,true),StructField(latitude,DoubleType,true),StructField(cb_new,IntegerType,true),StructField(zip_new,IntegerType,true),StructField(censustract_2010,StringType,true),StructField(censusblock_2010,StringType,true),StructField(nta_2010,StringType,true),StructField(segmentid,IntegerType,true),StructField(spc_common,StringType,true),StructField(spc_latin,StringType,true),StructField(location,StringType,true)))"
      ]
     },
     "execution_count": 7,
     "metadata": {},
     "output_type": "execute_result"
    }
   ],
   "source": [
    "# find out each schema\n",
    "df.schema"
   ]
  },
  {
   "cell_type": "code",
   "execution_count": 8,
   "metadata": {},
   "outputs": [],
   "source": [
    "# create alias table to work on as 'trees'\n",
    "df.createOrReplaceTempView(\"trees\")"
   ]
  },
  {
   "cell_type": "markdown",
   "metadata": {},
   "source": [
    "## Clustering and Visualization"
   ]
  },
  {
   "cell_type": "markdown",
   "metadata": {},
   "source": [
    "### 1. Show the address of tree and its species that touches wires (power line) and has diameter >= 25 along with its location (in latitude, longitude)"
   ]
  },
  {
   "cell_type": "code",
   "execution_count": 9,
   "metadata": {},
   "outputs": [
    {
     "name": "stdout",
     "output_type": "stream",
     "text": [
      "+------------------+-------+---------+----------+\n",
      "|           address|species| latitude| longitude|\n",
      "+------------------+-------+---------+----------+\n",
      "|    1 ASPINWALL ST|   PLAC|40.508272| -74.24948|\n",
      "|     1 BELMONT TER|  ACSA1| 40.64403|-74.081925|\n",
      "|     1 CARTERET ST|   PLAC|40.508581| -74.24847|\n",
      "|   1 CONYINGHAM AV|   PLAC|40.637347|-74.103132|\n",
      "|        1 E 233 ST|   QUPA|40.895179|-73.879776|\n",
      "|       1 HOWARD CT|   TICO|40.641171|-74.113487|\n",
      "|      1 POILLON AV|  ACSA1|40.536939|-74.179641|\n",
      "|       1 SEWARD PL|   ACRU|40.613763|-74.135066|\n",
      "|        1 SMITH CT|   ACRU|40.615023|-74.132941|\n",
      "|1-016 PARSONS BLVD|  ACSA1| 40.79595|-73.827447|\n",
      "|          10 77 ST|   PLAC| 40.63219|-74.037495|\n",
      "|      10 AUBURN AV|  ACSA1|40.611484|-74.143056|\n",
      "|     10 COLLEGE AV|   QUPA| 40.62224|-74.121088|\n",
      "|   10 ELIZABETH AV|   TICO|40.641606|-74.112483|\n",
      "|      10 FLOWER AV|  ACSA1| 40.50683|-74.224136|\n",
      "|    10 GLENWOOD AV|  ACSA1|40.619095|-74.099161|\n",
      "|   10 GRASSMERE DR|  ACSA1|40.601857|-74.084278|\n",
      "|    10 LAWRENCE AV|   PLAC| 40.63008|-74.107413|\n",
      "|       10 LLOYD CT|   ACPL|40.602733|-73.975465|\n",
      "|  10 MAC DONALD CT|   QUPA|40.499359|-74.250024|\n",
      "+------------------+-------+---------+----------+\n",
      "only showing top 20 rows\n",
      "\n"
     ]
    }
   ],
   "source": [
    "query1 = spark.sql(\"SELECT DISTINCT address, species, latitude, longitude\\\n",
    "                    FROM trees\\\n",
    "                    WHERE wires <> 'None' AND diameter >= 25\\\n",
    "                    ORDER BY address\")\n",
    "query1.show()"
   ]
  },
  {
   "cell_type": "code",
   "execution_count": 10,
   "metadata": {},
   "outputs": [
    {
     "data": {
      "text/plain": [
       "15982"
      ]
     },
     "execution_count": 10,
     "metadata": {},
     "output_type": "execute_result"
    }
   ],
   "source": [
    "# find out the length of query records\n",
    "query1.count()"
   ]
  },
  {
   "cell_type": "code",
   "execution_count": 11,
   "metadata": {},
   "outputs": [
    {
     "name": "stdout",
     "output_type": "stream",
     "text": [
      "+------------------+-------+---------+----------+--------------------+\n",
      "|           address|species| latitude| longitude|            features|\n",
      "+------------------+-------+---------+----------+--------------------+\n",
      "|    1 ASPINWALL ST|   PLAC|40.508272| -74.24948|[40.508272,-74.24...|\n",
      "|     1 BELMONT TER|  ACSA1| 40.64403|-74.081925|[40.64403,-74.081...|\n",
      "|     1 CARTERET ST|   PLAC|40.508581| -74.24847|[40.508581,-74.24...|\n",
      "|   1 CONYINGHAM AV|   PLAC|40.637347|-74.103132|[40.637347,-74.10...|\n",
      "|        1 E 233 ST|   QUPA|40.895179|-73.879776|[40.895179,-73.87...|\n",
      "|       1 HOWARD CT|   TICO|40.641171|-74.113487|[40.641171,-74.11...|\n",
      "|      1 POILLON AV|  ACSA1|40.536939|-74.179641|[40.536939,-74.17...|\n",
      "|       1 SEWARD PL|   ACRU|40.613763|-74.135066|[40.613763,-74.13...|\n",
      "|        1 SMITH CT|   ACRU|40.615023|-74.132941|[40.615023,-74.13...|\n",
      "|1-016 PARSONS BLVD|  ACSA1| 40.79595|-73.827447|[40.79595,-73.827...|\n",
      "|          10 77 ST|   PLAC| 40.63219|-74.037495|[40.63219,-74.037...|\n",
      "|      10 AUBURN AV|  ACSA1|40.611484|-74.143056|[40.611484,-74.14...|\n",
      "|     10 COLLEGE AV|   QUPA| 40.62224|-74.121088|[40.62224,-74.121...|\n",
      "|   10 ELIZABETH AV|   TICO|40.641606|-74.112483|[40.641606,-74.11...|\n",
      "|      10 FLOWER AV|  ACSA1| 40.50683|-74.224136|[40.50683,-74.224...|\n",
      "|    10 GLENWOOD AV|  ACSA1|40.619095|-74.099161|[40.619095,-74.09...|\n",
      "|   10 GRASSMERE DR|  ACSA1|40.601857|-74.084278|[40.601857,-74.08...|\n",
      "|    10 LAWRENCE AV|   PLAC| 40.63008|-74.107413|[40.63008,-74.107...|\n",
      "|       10 LLOYD CT|   ACPL|40.602733|-73.975465|[40.602733,-73.97...|\n",
      "|  10 MAC DONALD CT|   QUPA|40.499359|-74.250024|[40.499359,-74.25...|\n",
      "+------------------+-------+---------+----------+--------------------+\n",
      "only showing top 20 rows\n",
      "\n"
     ]
    }
   ],
   "source": [
    "# because pyspark.ml only reads input in vector, we're gonna\n",
    "# need to convert latitude and longitude into vector\n",
    "from pyspark.ml.feature import VectorAssembler\n",
    "\n",
    "assembler = VectorAssembler(\n",
    "    inputCols=[\"latitude\", \"longitude\"],\n",
    "    outputCol='features')\n",
    "\n",
    "query1 = assembler.transform(query1)\n",
    "query1.show()"
   ]
  },
  {
   "cell_type": "code",
   "execution_count": 12,
   "metadata": {},
   "outputs": [],
   "source": [
    "# before we predict each sample, we need to train model to cluster\n",
    "# setK indicates the number of clusters we would like to have,\n",
    "# and setSeed is to set the level of randomness\n",
    "from pyspark.ml.clustering import KMeans\n",
    "from pyspark.ml.evaluation import ClusteringEvaluator\n",
    "\n",
    "kmeans = KMeans().setK(5).setSeed(1)\n",
    "model = kmeans.fit(query1)"
   ]
  },
  {
   "cell_type": "code",
   "execution_count": 13,
   "metadata": {},
   "outputs": [
    {
     "name": "stdout",
     "output_type": "stream",
     "text": [
      "+---------------+-------+---------+----------+--------------------+----------+\n",
      "|        address|species| latitude| longitude|            features|prediction|\n",
      "+---------------+-------+---------+----------+--------------------+----------+\n",
      "| 1 ASPINWALL ST|   PLAC|40.508272| -74.24948|[40.508272,-74.24...|         3|\n",
      "|  1 BELMONT TER|  ACSA1| 40.64403|-74.081925|[40.64403,-74.081...|         3|\n",
      "|  1 CARTERET ST|   PLAC|40.508581| -74.24847|[40.508581,-74.24...|         3|\n",
      "|1 CONYINGHAM AV|   PLAC|40.637347|-74.103132|[40.637347,-74.10...|         3|\n",
      "|     1 E 233 ST|   QUPA|40.895179|-73.879776|[40.895179,-73.87...|         0|\n",
      "+---------------+-------+---------+----------+--------------------+----------+\n",
      "only showing top 5 rows\n",
      "\n"
     ]
    }
   ],
   "source": [
    "# predict and show result\n",
    "predictions = model.transform(query1)\n",
    "predictions.show(5)"
   ]
  },
  {
   "cell_type": "code",
   "execution_count": 14,
   "metadata": {},
   "outputs": [
    {
     "name": "stdout",
     "output_type": "stream",
     "text": [
      "Silhouette with squared euclidean distance = 0.6431373308883238\n"
     ]
    }
   ],
   "source": [
    "# evaluate clustering by computing Silhouette score\n",
    "evaluator = ClusteringEvaluator()\n",
    "\n",
    "silhouette = evaluator.evaluate(predictions)\n",
    "print(\"Silhouette with squared euclidean distance = \" + str(silhouette))"
   ]
  },
  {
   "cell_type": "code",
   "execution_count": 15,
   "metadata": {},
   "outputs": [
    {
     "name": "stdout",
     "output_type": "stream",
     "text": [
      "Cluster Centers: \n",
      "[ 40.78884611 -73.84890249]\n",
      "[1. 1.]\n",
      "[ 40.70260655 -73.79337388]\n",
      "[ 40.59979726 -74.12059094]\n",
      "[ 40.62616738 -73.95302096]\n"
     ]
    }
   ],
   "source": [
    "# show the final centroids of each cluster\n",
    "centers = model.clusterCenters()\n",
    "print(\"Cluster Centers: \")\n",
    "for center in centers:\n",
    "    print(center)"
   ]
  },
  {
   "cell_type": "code",
   "execution_count": 16,
   "metadata": {},
   "outputs": [
    {
     "name": "stdout",
     "output_type": "stream",
     "text": [
      "Pixiedust database opened successfully\n"
     ]
    },
    {
     "data": {
      "text/html": [
       "\n",
       "        <div style=\"margin:10px\">\n",
       "            <a href=\"https://github.com/ibm-watson-data-lab/pixiedust\" target=\"_new\">\n",
       "                <img src=\"https://github.com/ibm-watson-data-lab/pixiedust/raw/master/docs/_static/pd_icon32.png\" style=\"float:left;margin-right:10px\"/>\n",
       "            </a>\n",
       "            <span>Pixiedust version 1.1.15</span>\n",
       "        </div>\n",
       "        "
      ],
      "text/plain": [
       "<IPython.core.display.HTML object>"
      ]
     },
     "metadata": {},
     "output_type": "display_data"
    }
   ],
   "source": [
    "# visualization using pixiedust\n",
    "import pixiedust"
   ]
  },
  {
   "cell_type": "code",
   "execution_count": null,
   "metadata": {
    "pixiedust": {
     "displayParams": {
      "basemap": "outdoors-v9",
      "chartsize": "100",
      "coloropacity": "100",
      "colorrampname": "Orange to Purple",
      "custombasecolorsecondary": "#ff8000",
      "handlerId": "mapView",
      "keyFields": "latitude,longitude",
      "kind": "choropleth",
      "mapboxtoken": "pk.eyJ1IjoibWFwYm94IiwiYSI6ImNpejY4M29iazA2Z2gycXA4N2pmbDZmangifQ.-g_vE53SD2WrJ6tFX7QHmA",
      "numbins": "10",
      "title": "Big Trees Touching Wires",
      "valueFields": "prediction"
     }
    }
   },
   "outputs": [
    {
     "data": {
      "text/html": [
       "<style type=\"text/css\">.pd_warning{display:none;}</style><div class=\"pd_warning\"><em>Hey, there's something awesome here! To see it, open this notebook outside GitHub, in a viewer like Jupyter</em></div>"
      ],
      "text/plain": [
       "<IPython.core.display.HTML object>"
      ]
     },
     "metadata": {
      "pixieapp_metadata": null
     },
     "output_type": "display_data"
    }
   ],
   "source": [
    "display(predictions)"
   ]
  },
  {
   "cell_type": "markdown",
   "metadata": {},
   "source": [
    "### Visualization Result\n",
    "\n",
    "Showing first 100 rows in:\n",
    "\n",
    "- Cluster 0, 2, 3, 4\n",
    "\n",
    "![Clustering](img/cluster-1.jpg)\n",
    "\n",
    "- Cluster 1\n",
    "\n",
    "![Clustering](img/cluster-2.jpg)"
   ]
  },
  {
   "cell_type": "markdown",
   "metadata": {},
   "source": [
    "### 2. Show the average diameter for each species"
   ]
  },
  {
   "cell_type": "code",
   "execution_count": 18,
   "metadata": {},
   "outputs": [
    {
     "name": "stdout",
     "output_type": "stream",
     "text": [
      "+-------+----------------+\n",
      "|species|average_diameter|\n",
      "+-------+----------------+\n",
      "|  QUMA2|             3.0|\n",
      "|   MEAZ|             4.0|\n",
      "|   CLLU|             3.0|\n",
      "|UNKSTUM|             5.0|\n",
      "|   CABE|            15.0|\n",
      "|   QURU|            14.0|\n",
      "|   PLOC|            10.0|\n",
      "|   SEGI|             5.0|\n",
      "| FRPEMS|             7.0|\n",
      "|   ABBA|             6.0|\n",
      "|   GRRO|            19.0|\n",
      "|     RO|             1.0|\n",
      "|  PRSE1|             7.0|\n",
      "|   ACNE|            12.0|\n",
      "|   BEPA|             6.0|\n",
      "|   FISI|             4.0|\n",
      "|   ACGI|             6.0|\n",
      "|   CATE|            11.0|\n",
      "|   CRMA|             8.0|\n",
      "|     PS|             0.0|\n",
      "+-------+----------------+\n",
      "only showing top 20 rows\n",
      "\n"
     ]
    }
   ],
   "source": [
    "query2 = spark.sql(\"SELECT species, ROUND(AVG(diameter)) AS average_diameter\\\n",
    "                    FROM trees\\\n",
    "                    GROUP BY species\")\n",
    "query2.show()"
   ]
  },
  {
   "cell_type": "code",
   "execution_count": 19,
   "metadata": {},
   "outputs": [
    {
     "data": {
      "text/plain": [
       "278"
      ]
     },
     "execution_count": 19,
     "metadata": {},
     "output_type": "execute_result"
    }
   ],
   "source": [
    "# find out the length of query records\n",
    "query2.count()"
   ]
  },
  {
   "cell_type": "code",
   "execution_count": 20,
   "metadata": {},
   "outputs": [
    {
     "name": "stdout",
     "output_type": "stream",
     "text": [
      "+-------+----------------+--------+\n",
      "|species|average_diameter|features|\n",
      "+-------+----------------+--------+\n",
      "|  QUMA2|             3.0|   [3.0]|\n",
      "|   MEAZ|             4.0|   [4.0]|\n",
      "|   CLLU|             3.0|   [3.0]|\n",
      "|UNKSTUM|             5.0|   [5.0]|\n",
      "|   CABE|            15.0|  [15.0]|\n",
      "|   QURU|            14.0|  [14.0]|\n",
      "|   PLOC|            10.0|  [10.0]|\n",
      "|   SEGI|             5.0|   [5.0]|\n",
      "| FRPEMS|             7.0|   [7.0]|\n",
      "|   ABBA|             6.0|   [6.0]|\n",
      "|   GRRO|            19.0|  [19.0]|\n",
      "|     RO|             1.0|   [1.0]|\n",
      "|  PRSE1|             7.0|   [7.0]|\n",
      "|   ACNE|            12.0|  [12.0]|\n",
      "|   BEPA|             6.0|   [6.0]|\n",
      "|   FISI|             4.0|   [4.0]|\n",
      "|   ACGI|             6.0|   [6.0]|\n",
      "|   CATE|            11.0|  [11.0]|\n",
      "|   CRMA|             8.0|   [8.0]|\n",
      "|     PS|             0.0|   [0.0]|\n",
      "+-------+----------------+--------+\n",
      "only showing top 20 rows\n",
      "\n"
     ]
    }
   ],
   "source": [
    "# converting the average diameter into vector\n",
    "assembler = VectorAssembler(\n",
    "    inputCols=[\"average_diameter\"],\n",
    "    outputCol='features')\n",
    "\n",
    "query2 = assembler.transform(query2)\n",
    "query2.show()"
   ]
  },
  {
   "cell_type": "code",
   "execution_count": 21,
   "metadata": {},
   "outputs": [],
   "source": [
    "# train model to cluster\n",
    "kmeans = KMeans().setK(7).setSeed(1)\n",
    "model = kmeans.fit(query2)"
   ]
  },
  {
   "cell_type": "code",
   "execution_count": 22,
   "metadata": {},
   "outputs": [
    {
     "name": "stdout",
     "output_type": "stream",
     "text": [
      "+-------+----------------+--------+----------+\n",
      "|species|average_diameter|features|prediction|\n",
      "+-------+----------------+--------+----------+\n",
      "|  QUMA2|             3.0|   [3.0]|         4|\n",
      "|   MEAZ|             4.0|   [4.0]|         0|\n",
      "|   CLLU|             3.0|   [3.0]|         4|\n",
      "|UNKSTUM|             5.0|   [5.0]|         0|\n",
      "|   CABE|            15.0|  [15.0]|         5|\n",
      "+-------+----------------+--------+----------+\n",
      "only showing top 5 rows\n",
      "\n"
     ]
    }
   ],
   "source": [
    "# predict and show result\n",
    "predictions = model.transform(query2)\n",
    "predictions.show(5)"
   ]
  },
  {
   "cell_type": "code",
   "execution_count": 23,
   "metadata": {},
   "outputs": [
    {
     "name": "stdout",
     "output_type": "stream",
     "text": [
      "Silhouette with squared euclidean distance = 0.7116790030128366\n"
     ]
    }
   ],
   "source": [
    "# evaluate clustering by computing Silhouette score\n",
    "evaluator = ClusteringEvaluator()\n",
    "\n",
    "silhouette = evaluator.evaluate(predictions)\n",
    "print(\"Silhouette with squared euclidean distance = \" + str(silhouette))"
   ]
  },
  {
   "cell_type": "code",
   "execution_count": 24,
   "metadata": {},
   "outputs": [
    {
     "name": "stdout",
     "output_type": "stream",
     "text": [
      "Cluster Centers: \n",
      "[5.9453125]\n",
      "[31.]\n",
      "[10.85135135]\n",
      "[22.66666667]\n",
      "[1.70967742]\n",
      "[16.29032258]\n",
      "[39.]\n"
     ]
    }
   ],
   "source": [
    "# show the final centroids of each cluster\n",
    "centers = model.clusterCenters()\n",
    "print(\"Cluster Centers: \")\n",
    "for center in centers:\n",
    "    print(center)"
   ]
  },
  {
   "cell_type": "code",
   "execution_count": null,
   "metadata": {
    "pixiedust": {
     "displayParams": {
      "aggregation": "COUNT",
      "binsize": "15",
      "handlerId": "barChart",
      "keyFields": "prediction",
      "rowCount": "50",
      "title": "Average Diameter",
      "valueFields": "average_diameter",
      "ylabel": "true"
     }
    }
   },
   "outputs": [
    {
     "data": {
      "text/html": [
       "<style type=\"text/css\">.pd_warning{display:none;}</style><div class=\"pd_warning\"><em>Hey, there's something awesome here! To see it, open this notebook outside GitHub, in a viewer like Jupyter</em></div>"
      ],
      "text/plain": [
       "<IPython.core.display.HTML object>"
      ]
     },
     "metadata": {
      "pixieapp_metadata": null
     },
     "output_type": "display_data"
    }
   ],
   "source": [
    "display(predictions)"
   ]
  },
  {
   "cell_type": "markdown",
   "metadata": {},
   "source": [
    "### Visualization Result\n",
    "\n",
    "Showing first 50 rows:\n",
    "\n",
    "- Diameter with its corresponding cluster 0, 1, 2, 3, 4, 5, 6\n",
    "\n",
    "![Clustering](img/cluster-3.jpg)\n",
    "\n",
    "- Amount of members in cluster 0, 1, 2, 3, 4, 5, 6\n",
    "\n",
    "![Clustering](img/cluster-5.jpg)"
   ]
  },
  {
   "cell_type": "markdown",
   "metadata": {},
   "source": [
    "### 3. Show address and its location which has either good or excellent tree but not good sidewalk condition"
   ]
  },
  {
   "cell_type": "code",
   "execution_count": 28,
   "metadata": {},
   "outputs": [
    {
     "name": "stdout",
     "output_type": "stream",
     "text": [
      "+------------------+-------+------------------+---------+----------+\n",
      "|           address|species|sidewalk_condition| latitude| longitude|\n",
      "+------------------+-------+------------------+---------+----------+\n",
      "|        1 ASCAN AV|   PRMA|                NA|      1.0|       1.0|\n",
      "|        1 ASCAN AV|   QURU|            Raised|      1.0|       1.0|\n",
      "|        1 ASCAN AV|   SOJA|                NA|      1.0|       1.0|\n",
      "|        1 ASCAN AV|   QURU|                NA|      1.0|       1.0|\n",
      "|       1 BUTLER ST|   PLAC|            Raised|40.685087|-73.994541|\n",
      "|       1 BUTLER ST|   FRAM|            Raised|40.685087|-73.994541|\n",
      "|     1 CARTERET ST|   PLAC|            Raised|40.508581| -74.24847|\n",
      "| 1 CO OP CITY BLVD|   GLTR|                NA|      1.0|       1.0|\n",
      "| 1 CO OP CITY BLVD|   FRPE|                NA|      1.0|       1.0|\n",
      "|1 COLUMBIA HEIGHTS|   GLTR|            Raised|40.691672|-73.999569|\n",
      "|         1 E 21 ST|   GIBI|                NA|40.740256|-73.990502|\n",
      "|        1 E 233 ST|   QUPA|            Raised|40.895179|-73.879776|\n",
      "|      1 ELTINGE ST|   ACPL|            Raised|40.602817|-74.094537|\n",
      "|          1 FOX ST|   QUPA|            Raised|40.872653| -73.84409|\n",
      "|   1 FT CHARLES PL|     AC|            Raised|40.875684|-73.911425|\n",
      "|       1 GEORGE ST|   PLAC|            Raised|40.700082|-73.932761|\n",
      "|        1 GRACE CT|UNKNOWN|            Raised|40.694529|  -73.9986|\n",
      "|       1 HOLMES LA|   PLAC|            Raised|40.638733|-73.898045|\n",
      "|   1 MONTGOMERY PL|   PLAC|            Raised|40.671765|-73.974153|\n",
      "| 1 PAERDEGAT 14 ST|   ACPL|            Raised|40.627114|-73.902399|\n",
      "+------------------+-------+------------------+---------+----------+\n",
      "only showing top 20 rows\n",
      "\n"
     ]
    }
   ],
   "source": [
    "query3 = spark.sql(\"SELECT DISTINCT address, species, sidewalk_condition, latitude, longitude\\\n",
    "                    FROM trees\\\n",
    "                    WHERE sidewalk_condition <> 'Good' AND status IN ('Good', 'Excellent')\\\n",
    "                    ORDER BY address\")\n",
    "query3.show()"
   ]
  },
  {
   "cell_type": "code",
   "execution_count": 29,
   "metadata": {},
   "outputs": [
    {
     "data": {
      "text/plain": [
       "47156"
      ]
     },
     "execution_count": 29,
     "metadata": {},
     "output_type": "execute_result"
    }
   ],
   "source": [
    "# find out the length of query records\n",
    "query3.count()"
   ]
  },
  {
   "cell_type": "code",
   "execution_count": 30,
   "metadata": {},
   "outputs": [
    {
     "name": "stdout",
     "output_type": "stream",
     "text": [
      "+------------------+-------+------------------+---------+----------+--------------------+\n",
      "|           address|species|sidewalk_condition| latitude| longitude|            features|\n",
      "+------------------+-------+------------------+---------+----------+--------------------+\n",
      "|        1 ASCAN AV|   QURU|            Raised|      1.0|       1.0|           [1.0,1.0]|\n",
      "|        1 ASCAN AV|   SOJA|                NA|      1.0|       1.0|           [1.0,1.0]|\n",
      "|        1 ASCAN AV|   QURU|                NA|      1.0|       1.0|           [1.0,1.0]|\n",
      "|        1 ASCAN AV|   PRMA|                NA|      1.0|       1.0|           [1.0,1.0]|\n",
      "|       1 BUTLER ST|   PLAC|            Raised|40.685087|-73.994541|[40.685087,-73.99...|\n",
      "|       1 BUTLER ST|   FRAM|            Raised|40.685087|-73.994541|[40.685087,-73.99...|\n",
      "|     1 CARTERET ST|   PLAC|            Raised|40.508581| -74.24847|[40.508581,-74.24...|\n",
      "| 1 CO OP CITY BLVD|   GLTR|                NA|      1.0|       1.0|           [1.0,1.0]|\n",
      "| 1 CO OP CITY BLVD|   FRPE|                NA|      1.0|       1.0|           [1.0,1.0]|\n",
      "|1 COLUMBIA HEIGHTS|   GLTR|            Raised|40.691672|-73.999569|[40.691672,-73.99...|\n",
      "|         1 E 21 ST|   GIBI|                NA|40.740256|-73.990502|[40.740256,-73.99...|\n",
      "|        1 E 233 ST|   QUPA|            Raised|40.895179|-73.879776|[40.895179,-73.87...|\n",
      "|      1 ELTINGE ST|   ACPL|            Raised|40.602817|-74.094537|[40.602817,-74.09...|\n",
      "|          1 FOX ST|   QUPA|            Raised|40.872653| -73.84409|[40.872653,-73.84...|\n",
      "|   1 FT CHARLES PL|     AC|            Raised|40.875684|-73.911425|[40.875684,-73.91...|\n",
      "|       1 GEORGE ST|   PLAC|            Raised|40.700082|-73.932761|[40.700082,-73.93...|\n",
      "|        1 GRACE CT|UNKNOWN|            Raised|40.694529|  -73.9986|[40.694529,-73.9986]|\n",
      "|       1 HOLMES LA|   PLAC|            Raised|40.638733|-73.898045|[40.638733,-73.89...|\n",
      "|   1 MONTGOMERY PL|   PLAC|            Raised|40.671765|-73.974153|[40.671765,-73.97...|\n",
      "| 1 PAERDEGAT 14 ST|   ACPL|            Raised|40.627114|-73.902399|[40.627114,-73.90...|\n",
      "+------------------+-------+------------------+---------+----------+--------------------+\n",
      "only showing top 20 rows\n",
      "\n"
     ]
    }
   ],
   "source": [
    "# converting latitude and longitude into vector\n",
    "assembler = VectorAssembler(\n",
    "    inputCols=[\"latitude\", \"longitude\"],\n",
    "    outputCol='features')\n",
    "\n",
    "query3 = assembler.transform(query3)\n",
    "query3.show()"
   ]
  },
  {
   "cell_type": "code",
   "execution_count": 31,
   "metadata": {},
   "outputs": [],
   "source": [
    "# train model to cluster\n",
    "kmeans = KMeans().setK(9).setSeed(1)\n",
    "model = kmeans.fit(query3)"
   ]
  },
  {
   "cell_type": "code",
   "execution_count": 32,
   "metadata": {},
   "outputs": [
    {
     "name": "stdout",
     "output_type": "stream",
     "text": [
      "+-----------+-------+------------------+---------+----------+--------------------+----------+\n",
      "|    address|species|sidewalk_condition| latitude| longitude|            features|prediction|\n",
      "+-----------+-------+------------------+---------+----------+--------------------+----------+\n",
      "| 1 ASCAN AV|   QURU|            Raised|      1.0|       1.0|           [1.0,1.0]|         1|\n",
      "| 1 ASCAN AV|   SOJA|                NA|      1.0|       1.0|           [1.0,1.0]|         1|\n",
      "| 1 ASCAN AV|   QURU|                NA|      1.0|       1.0|           [1.0,1.0]|         1|\n",
      "| 1 ASCAN AV|   PRMA|                NA|      1.0|       1.0|           [1.0,1.0]|         1|\n",
      "|1 BUTLER ST|   PLAC|            Raised|40.685087|-73.994541|[40.685087,-73.99...|         8|\n",
      "+-----------+-------+------------------+---------+----------+--------------------+----------+\n",
      "only showing top 5 rows\n",
      "\n"
     ]
    }
   ],
   "source": [
    "# predict and show result\n",
    "predictions = model.transform(query3)\n",
    "predictions.show(5)"
   ]
  },
  {
   "cell_type": "code",
   "execution_count": 33,
   "metadata": {},
   "outputs": [
    {
     "name": "stdout",
     "output_type": "stream",
     "text": [
      "Silhouette with squared euclidean distance = 0.6115524322930231\n"
     ]
    }
   ],
   "source": [
    "# evaluate clustering by computing Silhouette score\n",
    "evaluator = ClusteringEvaluator()\n",
    "\n",
    "silhouette = evaluator.evaluate(predictions)\n",
    "print(\"Silhouette with squared euclidean distance = \" + str(silhouette))"
   ]
  },
  {
   "cell_type": "code",
   "execution_count": 34,
   "metadata": {},
   "outputs": [
    {
     "name": "stdout",
     "output_type": "stream",
     "text": [
      "Cluster Centers: \n",
      "[ 40.69680411 -73.85770901]\n",
      "[1. 1.]\n",
      "[ 40.75040616 -73.90609987]\n",
      "[ 40.60892707 -74.11749927]\n",
      "[ 40.72194362 -73.7774504 ]\n",
      "[ 40.62878995 -73.92805656]\n",
      "[ 40.86842139 -73.8708802 ]\n",
      "[ 40.54902456 -74.1651811 ]\n",
      "[ 40.64776692 -73.99132747]\n"
     ]
    }
   ],
   "source": [
    "# show the final centroids of each cluster\n",
    "centers = model.clusterCenters()\n",
    "print(\"Cluster Centers: \")\n",
    "for center in centers:\n",
    "    print(center)"
   ]
  },
  {
   "cell_type": "code",
   "execution_count": null,
   "metadata": {
    "pixiedust": {
     "displayParams": {
      "basemap": "outdoors-v9",
      "chartsize": "100",
      "coloropacity": "100",
      "colorrampname": "Orange to Purple",
      "custombasecolorsecondary": "#ff8000",
      "handlerId": "mapView",
      "keyFields": "latitude,longitude",
      "kind": "choropleth",
      "mapboxtoken": "pk.eyJ1IjoibWFwYm94IiwiYSI6ImNpejY4M29iazA2Z2gycXA4N2pmbDZmangifQ.-g_vE53SD2WrJ6tFX7QHmA",
      "title": "Fine Trees but Bad Sidewalks",
      "valueFields": "prediction"
     }
    }
   },
   "outputs": [
    {
     "data": {
      "text/html": [
       "<style type=\"text/css\">.pd_warning{display:none;}</style><div class=\"pd_warning\"><em>Hey, there's something awesome here! To see it, open this notebook outside GitHub, in a viewer like Jupyter</em></div>\n",
       "        <div class=\"pd_save is-viewer-good\" style=\"padding-right:10px;text-align: center;line-height:initial !important;font-size: xx-large;font-weight: 500;color: coral;\">\n",
       "            Fine Trees but Bad Sidewalks\n",
       "        </div>\n",
       "    <div id=\"chartFiguref0031c97\" class=\"pd_save is-viewer-good\" style=\"overflow-x:auto\">\n",
       "            <script>\n",
       "  window.iframeLoaded = window.iframeLoaded || function(iframe) {\n",
       "    try {\n",
       "      iframe.contentWindow.pdMessageListeners = [];\n",
       "      iframe.contentWindow[\"addPDMessageListener\"] = function(listener){\n",
       "        iframe.contentWindow.pdMessageListeners.push(listener);\n",
       "      }\n",
       "      iframe.contentWindow.addEventListener(\"message\", function(event){\n",
       "        iframe.contentWindow.pdMessageListeners.forEach(function(listener){\n",
       "          listener(event);\n",
       "        });\n",
       "      }, false);\n",
       "      iframe.contentWindow.ready = true;\n",
       "      iframe.contentWindow[\"triggerPDEvent\"] = function(eventInfo) {\n",
       "        $(document).trigger('pd_event', eventInfo);\n",
       "      }\n",
       "    } catch (e) {\n",
       "      console.log(e)\n",
       "    }\n",
       "  }\n",
       "\n",
       "  \n",
       "</script>\n",
       "<iframe id=\"mapframef0031c97\" style=\"width:800.0px;height:500px\" srcdoc=\"<!DOCTYPE html>\n",
       "<html lang=&quot;en&quot;>\n",
       "<head>\n",
       "    <meta charset=&quot;UTF-8&quot;>\n",
       "    <meta name=&quot;viewport&quot; content=&quot;width=device-width, initial-scale=1&quot;>\n",
       "    <title>Pixiedust Mapbox map</title>\n",
       "    <script src=&quot;https://api.tiles.mapbox.com/mapbox-gl-js/v0.32.1/mapbox-gl.js&quot;></script>\n",
       "    <link href=&quot;https://api.tiles.mapbox.com/mapbox-gl-js/v0.32.1/mapbox-gl.css&quot; rel=&quot;stylesheet&quot; />\n",
       "    <style>\n",
       "    .mapboxgl-popup-content h3 { \n",
       "        margin: 2px 0 2px 0;\n",
       "        font-style: italic;\n",
       "    }\n",
       "    .mapboxgl-popup {\n",
       "        max-width: 200px;\n",
       "    }\n",
       "    #map canvas {\n",
       "        cursor: crosshair;\n",
       "    }\n",
       "    .legend {\n",
       "        background-color: rgba(255,255,255, 0.75);\n",
       "        border-radius: 3px;\n",
       "        position: absolute;\n",
       "        left: 14px;\n",
       "        top: 14px;\n",
       "        box-shadow: 0 1px 2px rgba(0,0,0,0.10);\n",
       "        font-size: 12px;\n",
       "        line-height: 18px;\n",
       "        padding: 10px;\n",
       "        z-index: 1;\n",
       "    }\n",
       "    .legend h4 {\n",
       "        margin: 0 0 10px;\n",
       "    }\n",
       "    .legend div span {\n",
       "        border-radius: 50%;\n",
       "        display: inline-block;\n",
       "        height: 10px;\n",
       "        margin-right: 5px;\n",
       "        width: 10px;\n",
       "    }\n",
       "    body { \n",
       "        background-color:#333; \n",
       "        margin:0px !important; \n",
       "        overflow: hidden;\n",
       "        font-family: &quot;Helvetica Neue&quot;, Arial, Helvetica, sans-serif;\n",
       "    }\n",
       "    </style>\n",
       "</head>\n",
       "<body>\n",
       "<div id=&quot;map-f0031c97-1ba8cbbc&quot; style=&quot;width:calc(800.0px - 4px);height:calc(500px - 4px)&quot; />\n",
       "\n",
       "\n",
       "<script>\n",
       "    !function(e){if(&quot;object&quot;==typeof exports&amp;&amp;&quot;undefined&quot;!=typeof module)module.exports=e();else if(&quot;function&quot;==typeof define&amp;&amp;define.amd)define([],e);else{var n;&quot;undefined&quot;!=typeof window?n=window:&quot;undefined&quot;!=typeof global?n=global:&quot;undefined&quot;!=typeof self&amp;&amp;(n=self),n.geojsonExtent=e()}}(function(){return function e(t,n,r){function s(o,u){if(!n[o]){if(!t[o]){var a=&quot;function&quot;==typeof require&amp;&amp;require;if(!u&amp;&amp;a)return a(o,!0);if(i)return i(o,!0);var f=new Error(&quot;Cannot find module &quot;+o+&quot;&quot;);throw f.code=&quot;MODULE_NOT_FOUND&quot;,f}var l=n[o]={exports:{}};t[o][0].call(l.exports,function(e){var n=t[o][1][e];return s(n?n:e)},l,l.exports,e,t,n,r)}return n[o].exports}for(var i=&quot;function&quot;==typeof require&amp;&amp;require,o=0;o<r.length;o++)s(r[o]);return s}({1:[function(require,module){function getExtent(_){for(var ext=extent(),coords=geojsonCoords(_),i=0;i<coords.length;i++)ext.include(coords[i]);return ext}var geojsonCoords=require(&quot;geojson-coords&quot;),traverse=require(&quot;traverse&quot;),extent=require(&quot;extent&quot;),geojsonTypes=[&quot;Point&quot;,&quot;MultiPoint&quot;,&quot;LineString&quot;,&quot;MultiLineString&quot;,&quot;Polygon&quot;,&quot;MultiPolygon&quot;,&quot;Feature&quot;,&quot;FeatureCollection&quot;,&quot;GeometryCollection&quot;];module.exports=function(_){return getExtent(_).bbox()},module.exports.polygon=function(_){return getExtent(_).polygon()},module.exports.bboxify=function(_){return traverse(_).map(function(value){value&amp;&amp;-1!==typeof geojsonTypes.indexOf(value.type)&amp;&amp;(console.log(value.type,value),value.bbox=getExtent(value).bbox(),this.update(value))})}},{extent:2,&quot;geojson-coords&quot;:4,traverse:7}],2:[function(require,module){function Extent(){return this instanceof Extent?(this._bbox=[1/0,1/0,-(1/0),-(1/0)],void(this._valid=!1)):new Extent}module.exports=Extent,Extent.prototype.include=function(ll){return this._valid=!0,this._bbox[0]=Math.min(this._bbox[0],ll[0]),this._bbox[1]=Math.min(this._bbox[1],ll[1]),this._bbox[2]=Math.max(this._bbox[2],ll[0]),this._bbox[3]=Math.max(this._bbox[3],ll[1]),this},Extent.prototype.union=function(other){return this._valid=!0,this._bbox[0]=Math.min(this._bbox[0],other[0]),this._bbox[1]=Math.min(this._bbox[1],other[1]),this._bbox[2]=Math.max(this._bbox[2],other[2]),this._bbox[3]=Math.max(this._bbox[3],other[3]),this},Extent.prototype.bbox=function(){return this._valid?this._bbox:null},Extent.prototype.contains=function(ll){return this._valid?this._bbox[0]<=ll[0]&amp;&amp;this._bbox[1]<=ll[1]&amp;&amp;this._bbox[2]>=ll[0]&amp;&amp;this._bbox[3]>=ll[1]:null},Extent.prototype.polygon=function(){return this._valid?{type:&quot;Polygon&quot;,coordinates:[[[this._bbox[0],this._bbox[1]],[this._bbox[2],this._bbox[1]],[this._bbox[2],this._bbox[3]],[this._bbox[0],this._bbox[3]],[this._bbox[0],this._bbox[1]]]]}:null}},{}],3:[function(require,module){module.exports=function(list){function _flatten(list){return Array.isArray(list)&amp;&amp;list.length&amp;&amp;&quot;number&quot;==typeof list[0]?[list]:list.reduce(function(acc,item){return Array.isArray(item)&amp;&amp;Array.isArray(item[0])?acc.concat(_flatten(item)):(acc.push(item),acc)},[])}return _flatten(list)}},{}],4:[function(require,module){var geojsonNormalize=require(&quot;geojson-normalize&quot;),geojsonFlatten=require(&quot;geojson-flatten&quot;),flatten=require(&quot;./flatten&quot;);module.exports=function(_){if(!_)return[];var normalized=geojsonFlatten(geojsonNormalize(_)),coordinates=[];return normalized.features.forEach(function(feature){feature.geometry&amp;&amp;(coordinates=coordinates.concat(flatten(feature.geometry.coordinates)))}),coordinates}},{&quot;./flatten&quot;:3,&quot;geojson-flatten&quot;:5,&quot;geojson-normalize&quot;:6}],5:[function(require,module){function flatten(gj){switch(gj&amp;&amp;gj.type||null){case&quot;FeatureCollection&quot;:return gj.features=gj.features.reduce(function(mem,feature){return mem.concat(flatten(feature))},[]),gj;case&quot;Feature&quot;:return flatten(gj.geometry).map(function(geom){return{type:&quot;Feature&quot;,properties:JSON.parse(JSON.stringify(gj.properties)),geometry:geom}});case&quot;MultiPoint&quot;:return gj.coordinates.map(function(_){return{type:&quot;Point&quot;,coordinates:_}});case&quot;MultiPolygon&quot;:return gj.coordinates.map(function(_){return{type:&quot;Polygon&quot;,coordinates:_}});case&quot;MultiLineString&quot;:return gj.coordinates.map(function(_){return{type:&quot;LineString&quot;,coordinates:_}});case&quot;GeometryCollection&quot;:return gj.geometries;case&quot;Point&quot;:case&quot;Polygon&quot;:case&quot;LineString&quot;:return[gj];default:return gj}}module.exports=flatten},{}],6:[function(require,module){function normalize(gj){if(!gj||!gj.type)return null;var type=types[gj.type];return type?&quot;geometry&quot;===type?{type:&quot;FeatureCollection&quot;,features:[{type:&quot;Feature&quot;,properties:{},geometry:gj}]}:&quot;feature&quot;===type?{type:&quot;FeatureCollection&quot;,features:[gj]}:&quot;featurecollection&quot;===type?gj:void 0:null}module.exports=normalize;var types={Point:&quot;geometry&quot;,MultiPoint:&quot;geometry&quot;,LineString:&quot;geometry&quot;,MultiLineString:&quot;geometry&quot;,Polygon:&quot;geometry&quot;,MultiPolygon:&quot;geometry&quot;,GeometryCollection:&quot;geometry&quot;,Feature:&quot;feature&quot;,FeatureCollection:&quot;featurecollection&quot;}},{}],7:[function(require,module){function Traverse(obj){this.value=obj}function walk(root,cb,immutable){var path=[],parents=[],alive=!0;return function walker(node_){function updateState(){if(&quot;object&quot;==typeof state.node&amp;&amp;null!==state.node){state.keys&amp;&amp;state.node_===state.node||(state.keys=objectKeys(state.node)),state.isLeaf=0==state.keys.length;for(var i=0;i<parents.length;i++)if(parents[i].node_===node_){state.circular=parents[i];break}}else state.isLeaf=!0,state.keys=null;state.notLeaf=!state.isLeaf,state.notRoot=!state.isRoot}var node=immutable?copy(node_):node_,modifiers={},keepGoing=!0,state={node:node,node_:node_,path:[].concat(path),parent:parents[parents.length-1],parents:parents,key:path.slice(-1)[0],isRoot:0===path.length,level:path.length,circular:null,update:function(x,stopHere){state.isRoot||(state.parent.node[state.key]=x),state.node=x,stopHere&amp;&amp;(keepGoing=!1)},&quot;delete&quot;:function(stopHere){delete state.parent.node[state.key],stopHere&amp;&amp;(keepGoing=!1)},remove:function(stopHere){isArray(state.parent.node)?state.parent.node.splice(state.key,1):delete state.parent.node[state.key],stopHere&amp;&amp;(keepGoing=!1)},keys:null,before:function(f){modifiers.before=f},after:function(f){modifiers.after=f},pre:function(f){modifiers.pre=f},post:function(f){modifiers.post=f},stop:function(){alive=!1},block:function(){keepGoing=!1}};if(!alive)return state;updateState();var ret=cb.call(state,state.node);return void 0!==ret&amp;&amp;state.update&amp;&amp;state.update(ret),modifiers.before&amp;&amp;modifiers.before.call(state,state.node),keepGoing?(&quot;object&quot;!=typeof state.node||null===state.node||state.circular||(parents.push(state),updateState(),forEach(state.keys,function(key,i){path.push(key),modifiers.pre&amp;&amp;modifiers.pre.call(state,state.node[key],key);var child=walker(state.node[key]);immutable&amp;&amp;hasOwnProperty.call(state.node,key)&amp;&amp;(state.node[key]=child.node),child.isLast=i==state.keys.length-1,child.isFirst=0==i,modifiers.post&amp;&amp;modifiers.post.call(state,child),path.pop()}),parents.pop()),modifiers.after&amp;&amp;modifiers.after.call(state,state.node),state):state}(root).node}function copy(src){if(&quot;object&quot;==typeof src&amp;&amp;null!==src){var dst;if(isArray(src))dst=[];else if(isDate(src))dst=new Date(src.getTime?src.getTime():src);else if(isRegExp(src))dst=new RegExp(src);else if(isError(src))dst={message:src.message};else if(isBoolean(src))dst=new Boolean(src);else if(isNumber(src))dst=new Number(src);else if(isString(src))dst=new String(src);else if(Object.create&amp;&amp;Object.getPrototypeOf)dst=Object.create(Object.getPrototypeOf(src));else if(src.constructor===Object)dst={};else{var proto=src.constructor&amp;&amp;src.constructor.prototype||src.__proto__||{},T=function(){};T.prototype=proto,dst=new T}return forEach(objectKeys(src),function(key){dst[key]=src[key]}),dst}return src}function toS(obj){return Object.prototype.toString.call(obj)}function isDate(obj){return&quot;[object Date]&quot;===toS(obj)}function isRegExp(obj){return&quot;[object RegExp]&quot;===toS(obj)}function isError(obj){return&quot;[object Error]&quot;===toS(obj)}function isBoolean(obj){return&quot;[object Boolean]&quot;===toS(obj)}function isNumber(obj){return&quot;[object Number]&quot;===toS(obj)}function isString(obj){return&quot;[object String]&quot;===toS(obj)}var traverse=module.exports=function(obj){return new Traverse(obj)};Traverse.prototype.get=function(ps){for(var node=this.value,i=0;i<ps.length;i++){var key=ps[i];if(!node||!hasOwnProperty.call(node,key)){node=void 0;break}node=node[key]}return node},Traverse.prototype.has=function(ps){for(var node=this.value,i=0;i<ps.length;i++){var key=ps[i];if(!node||!hasOwnProperty.call(node,key))return!1;node=node[key]}return!0},Traverse.prototype.set=function(ps,value){for(var node=this.value,i=0;i<ps.length-1;i++){var key=ps[i];hasOwnProperty.call(node,key)||(node[key]={}),node=node[key]}return node[ps[i]]=value,value},Traverse.prototype.map=function(cb){return walk(this.value,cb,!0)},Traverse.prototype.forEach=function(cb){return this.value=walk(this.value,cb,!1),this.value},Traverse.prototype.reduce=function(cb,init){var skip=1===arguments.length,acc=skip?this.value:init;return this.forEach(function(x){this.isRoot&amp;&amp;skip||(acc=cb.call(this,acc,x))}),acc},Traverse.prototype.paths=function(){var acc=[];return this.forEach(function(){acc.push(this.path)}),acc},Traverse.prototype.nodes=function(){var acc=[];return this.forEach(function(){acc.push(this.node)}),acc},Traverse.prototype.clone=function(){var parents=[],nodes=[];return function clone(src){for(var i=0;i<parents.length;i++)if(parents[i]===src)return nodes[i];if(&quot;object&quot;==typeof src&amp;&amp;null!==src){var dst=copy(src);return parents.push(src),nodes.push(dst),forEach(objectKeys(src),function(key){dst[key]=clone(src[key])}),parents.pop(),nodes.pop(),dst}return src}(this.value)};var objectKeys=Object.keys||function(obj){var res=[];for(var key in obj)res.push(key);return res},isArray=Array.isArray||function(xs){return&quot;[object Array]&quot;===Object.prototype.toString.call(xs)},forEach=function(xs,fn){if(xs.forEach)return xs.forEach(fn);for(var i=0;i<xs.length;i++)fn(xs[i],i,xs)};forEach(objectKeys(Traverse.prototype),function(key){traverse[key]=function(obj){var args=[].slice.call(arguments,1),t=new Traverse(obj);return t[key].apply(t,args)}});var hasOwnProperty=Object.hasOwnProperty||function(obj,key){return key in obj}},{}]},{},[1])(1)});    \n",
       "    var comment = &quot;&quot;;\n",
       "    mapboxgl.accessToken=&quot;pk.eyJ1IjoibWFwYm94IiwiYSI6ImNpejY4M29iazA2Z2gycXA4N2pmbDZmangifQ.-g_vE53SD2WrJ6tFX7QHmA&quot;;\n",
       "    var mapdata = null;\n",
       "    var map = new mapboxgl.Map({\n",
       "        container: &quot;map-f0031c97-1ba8cbbc&quot;,\n",
       "        style: &quot;mapbox://styles/mapbox/outdoors-v9&quot;\n",
       "    });\n",
       "\n",
       "    setTimeout(function(){\n",
       "        if (window.addPDMessageListener){\n",
       "            window.addPDMessageListener(function(event){\n",
       "                streamingLayer = map.getSource(&quot;streamingLayer&quot;);\n",
       "                if (streamingLayer){\n",
       "                    streamingLayer.setData(event.data.data);\n",
       "                }else{\n",
       "                    map.addLayer({\n",
       "                        &quot;id&quot;: &quot;streamingLayer&quot;,\n",
       "                        &quot;maptype&quot;: &quot;mapbox&quot;,\n",
       "                        &quot;type&quot;: event.data.type,\n",
       "                        &quot;source&quot;: { type: &quot;geojson&quot;, data: event.data.data },\n",
       "                        &quot;layout&quot;: event.data.layout || {},\n",
       "                        &quot;paint&quot;: event.data.paint || {}\n",
       "                    });\n",
       "                    if (event.data.fitbounds &amp;&amp; event.data.data.features){\n",
       "                        function updateBounds(res, ar){\n",
       "                            if (ar[0].length >=2 &amp;&amp; ar[1].length >= 2 ){\n",
       "                                if (!res){\n",
       "                                    return ar;\n",
       "                                }\n",
       "                                return [ \n",
       "                                    [Math.min( ar[0][0]-0.1, res[0][0]), Math.min( ar[0][1]-0.1, res[0][1])],\n",
       "                                    [Math.max( ar[1][0]+0.1, res[1][0]), Math.max( ar[1][1]+0.1, res[1][1])]\n",
       "                                ]\n",
       "                            }\n",
       "                            return null;\n",
       "                        }\n",
       "                        var bbox = event.data.data.features.reduce(function(res, value){\n",
       "                            var coord = value.geometry.coordinates;\n",
       "                            if (coord.length >= 2 ){\n",
       "                                res = updateBounds( res, [coord[0], coord[1]]);\n",
       "                            }\n",
       "                            return res;\n",
       "                        }, null);\n",
       "                        if (bbox){\n",
       "                            map.fitBounds(bbox);\n",
       "                        }\n",
       "                    }\n",
       "                }\n",
       "            });\n",
       "        };\n",
       "    },100);\n",
       "\n",
       "    var popup = new mapboxgl.Popup({closeButton: false,closeOnClick: true});\n",
       "\n",
       "    function divineGeometryType(mapdata) {\n",
       "        comment = &quot;check type of first geometry. Later expand to check all geometries and make a good decision&quot;;\n",
       "        return mapdata.features[0].geometry.type;\n",
       "    }\n",
       "    \n",
       "    map.on(&quot;mousemove&quot;, function (e) {\n",
       "        var fs = map.queryRenderedFeatures(e.point,{layers:[&quot;pxlayer&quot;]});\n",
       "        if (!fs || !fs.length) {popup.remove();return;};\n",
       "        popuphtml = &quot;&quot;;\n",
       "        var hr = false;\n",
       "        fs.forEach(function(f){\n",
       "            if (hr){ \n",
       "                popuphtml += &quot;<hr>\\n&quot;;\n",
       "            }\n",
       "            hr=true;\n",
       "            popuphtml += &quot;<h3>&quot;+f.layer.id.toUpperCase()+&quot;</h3>\\n&quot;;\n",
       "            var keylength = Object.keys(f.properties).length;\n",
       "            for (var key in f.properties) {\n",
       "                popuphtml += &quot;<b>&quot;+key+&quot;: </b> &quot;+f.properties[key]+&quot;<br/>\\n&quot;;\n",
       "            }\n",
       "        });\n",
       "        popup.setLngLat(e.lngLat).setHTML(popuphtml).addTo(map);\n",
       "    });\n",
       "    \n",
       "    map.on(&quot;click&quot;, function (e) {\n",
       "        var fs = map.queryRenderedFeatures(e.point, { layers: [&quot;pxlayer&quot;] });\n",
       "        if (fs &amp;&amp; fs.length) {\n",
       "            var f = fs[0];\n",
       "            console.log(&quot;clicked&quot;, f);\n",
       "            var keylength = Object.keys(f.properties).length;\n",
       "            var payload = {type:&quot;select&quot;, targetDivId: &quot;&quot; };\n",
       "\n",
       "            for (var key in f.properties) {\n",
       "                payload[key] = f.properties[key];\n",
       "            }\n",
       "\n",
       "            if (window.triggerPDEvent) {\n",
       "                window.triggerPDEvent(payload);\n",
       "            }\n",
       "        }\n",
       "    });\n",
       "        \n",
       "    map.on(&quot;load&quot;, function() {\n",
       "        \n",
       "        mapdata={&quot;type&quot;: &quot;FeatureCollection&quot;, &quot;features&quot;: [{&quot;type&quot;: &quot;Feature&quot;, &quot;geometry&quot;: {&quot;type&quot;: &quot;Point&quot;, &quot;coordinates&quot;: [1.0, 1.0]}, &quot;properties&quot;: {&quot;prediction&quot;: 1.0}}, {&quot;type&quot;: &quot;Feature&quot;, &quot;geometry&quot;: {&quot;type&quot;: &quot;Point&quot;, &quot;coordinates&quot;: [1.0, 1.0]}, &quot;properties&quot;: {&quot;prediction&quot;: 1.0}}, {&quot;type&quot;: &quot;Feature&quot;, &quot;geometry&quot;: {&quot;type&quot;: &quot;Point&quot;, &quot;coordinates&quot;: [1.0, 1.0]}, &quot;properties&quot;: {&quot;prediction&quot;: 1.0}}, {&quot;type&quot;: &quot;Feature&quot;, &quot;geometry&quot;: {&quot;type&quot;: &quot;Point&quot;, &quot;coordinates&quot;: [-74.150556, 40.541664]}, &quot;properties&quot;: {&quot;prediction&quot;: 7.0}}, {&quot;type&quot;: &quot;Feature&quot;, &quot;geometry&quot;: {&quot;type&quot;: &quot;Point&quot;, &quot;coordinates&quot;: [-74.171669, 40.549324]}, &quot;properties&quot;: {&quot;prediction&quot;: 7.0}}, {&quot;type&quot;: &quot;Feature&quot;, &quot;geometry&quot;: {&quot;type&quot;: &quot;Point&quot;, &quot;coordinates&quot;: [-74.141657, 40.549728]}, &quot;properties&quot;: {&quot;prediction&quot;: 7.0}}, {&quot;type&quot;: &quot;Feature&quot;, &quot;geometry&quot;: {&quot;type&quot;: &quot;Point&quot;, &quot;coordinates&quot;: [-74.136163, 40.554772]}, &quot;properties&quot;: {&quot;prediction&quot;: 7.0}}, {&quot;type&quot;: &quot;Feature&quot;, &quot;geometry&quot;: {&quot;type&quot;: &quot;Point&quot;, &quot;coordinates&quot;: [-74.162094, 40.558957]}, &quot;properties&quot;: {&quot;prediction&quot;: 7.0}}, {&quot;type&quot;: &quot;Feature&quot;, &quot;geometry&quot;: {&quot;type&quot;: &quot;Point&quot;, &quot;coordinates&quot;: [-73.954333, 40.579126]}, &quot;properties&quot;: {&quot;prediction&quot;: 5.0}}, {&quot;type&quot;: &quot;Feature&quot;, &quot;geometry&quot;: {&quot;type&quot;: &quot;Point&quot;, &quot;coordinates&quot;: [-74.106548, 40.581521]}, &quot;properties&quot;: {&quot;prediction&quot;: 3.0}}, {&quot;type&quot;: &quot;Feature&quot;, &quot;geometry&quot;: {&quot;type&quot;: &quot;Point&quot;, &quot;coordinates&quot;: [-74.104839, 40.582049]}, &quot;properties&quot;: {&quot;prediction&quot;: 3.0}}, {&quot;type&quot;: &quot;Feature&quot;, &quot;geometry&quot;: {&quot;type&quot;: &quot;Point&quot;, &quot;coordinates&quot;: [-74.138874, 40.603185]}, &quot;properties&quot;: {&quot;prediction&quot;: 3.0}}, {&quot;type&quot;: &quot;Feature&quot;, &quot;geometry&quot;: {&quot;type&quot;: &quot;Point&quot;, &quot;coordinates&quot;: [-74.135119, 40.610802]}, &quot;properties&quot;: {&quot;prediction&quot;: 3.0}}, {&quot;type&quot;: &quot;Feature&quot;, &quot;geometry&quot;: {&quot;type&quot;: &quot;Point&quot;, &quot;coordinates&quot;: [-74.114961, 40.617421]}, &quot;properties&quot;: {&quot;prediction&quot;: 3.0}}, {&quot;type&quot;: &quot;Feature&quot;, &quot;geometry&quot;: {&quot;type&quot;: &quot;Point&quot;, &quot;coordinates&quot;: [-74.160045, 40.618533]}, &quot;properties&quot;: {&quot;prediction&quot;: 3.0}}, {&quot;type&quot;: &quot;Feature&quot;, &quot;geometry&quot;: {&quot;type&quot;: &quot;Point&quot;, &quot;coordinates&quot;: [-74.160154, 40.618621]}, &quot;properties&quot;: {&quot;prediction&quot;: 3.0}}, {&quot;type&quot;: &quot;Feature&quot;, &quot;geometry&quot;: {&quot;type&quot;: &quot;Point&quot;, &quot;coordinates&quot;: [-73.96259, 40.621509]}, &quot;properties&quot;: {&quot;prediction&quot;: 5.0}}, {&quot;type&quot;: &quot;Feature&quot;, &quot;geometry&quot;: {&quot;type&quot;: &quot;Point&quot;, &quot;coordinates&quot;: [-73.964057, 40.623873]}, &quot;properties&quot;: {&quot;prediction&quot;: 8.0}}, {&quot;type&quot;: &quot;Feature&quot;, &quot;geometry&quot;: {&quot;type&quot;: &quot;Point&quot;, &quot;coordinates&quot;: [-73.955721, 40.627449]}, &quot;properties&quot;: {&quot;prediction&quot;: 5.0}}, {&quot;type&quot;: &quot;Feature&quot;, &quot;geometry&quot;: {&quot;type&quot;: &quot;Point&quot;, &quot;coordinates&quot;: [-73.91917, 40.627973]}, &quot;properties&quot;: {&quot;prediction&quot;: 5.0}}, {&quot;type&quot;: &quot;Feature&quot;, &quot;geometry&quot;: {&quot;type&quot;: &quot;Point&quot;, &quot;coordinates&quot;: [-73.924168, 40.630091]}, &quot;properties&quot;: {&quot;prediction&quot;: 5.0}}, {&quot;type&quot;: &quot;Feature&quot;, &quot;geometry&quot;: {&quot;type&quot;: &quot;Point&quot;, &quot;coordinates&quot;: [-73.922419, 40.631643]}, &quot;properties&quot;: {&quot;prediction&quot;: 5.0}}, {&quot;type&quot;: &quot;Feature&quot;, &quot;geometry&quot;: {&quot;type&quot;: &quot;Point&quot;, &quot;coordinates&quot;: [-73.925514, 40.633554]}, &quot;properties&quot;: {&quot;prediction&quot;: 5.0}}, {&quot;type&quot;: &quot;Feature&quot;, &quot;geometry&quot;: {&quot;type&quot;: &quot;Point&quot;, &quot;coordinates&quot;: [-73.967167, 40.633711]}, &quot;properties&quot;: {&quot;prediction&quot;: 8.0}}, {&quot;type&quot;: &quot;Feature&quot;, &quot;geometry&quot;: {&quot;type&quot;: &quot;Point&quot;, &quot;coordinates&quot;: [-73.927481, 40.633962]}, &quot;properties&quot;: {&quot;prediction&quot;: 5.0}}, {&quot;type&quot;: &quot;Feature&quot;, &quot;geometry&quot;: {&quot;type&quot;: &quot;Point&quot;, &quot;coordinates&quot;: [-73.926542, 40.634087]}, &quot;properties&quot;: {&quot;prediction&quot;: 5.0}}, {&quot;type&quot;: &quot;Feature&quot;, &quot;geometry&quot;: {&quot;type&quot;: &quot;Point&quot;, &quot;coordinates&quot;: [-73.906962, 40.634346]}, &quot;properties&quot;: {&quot;prediction&quot;: 5.0}}, {&quot;type&quot;: &quot;Feature&quot;, &quot;geometry&quot;: {&quot;type&quot;: &quot;Point&quot;, &quot;coordinates&quot;: [-73.907333, 40.635735]}, &quot;properties&quot;: {&quot;prediction&quot;: 5.0}}, {&quot;type&quot;: &quot;Feature&quot;, &quot;geometry&quot;: {&quot;type&quot;: &quot;Point&quot;, &quot;coordinates&quot;: [-73.891415, 40.641181]}, &quot;properties&quot;: {&quot;prediction&quot;: 5.0}}, {&quot;type&quot;: &quot;Feature&quot;, &quot;geometry&quot;: {&quot;type&quot;: &quot;Point&quot;, &quot;coordinates&quot;: [-73.893929, 40.641212]}, &quot;properties&quot;: {&quot;prediction&quot;: 5.0}}, {&quot;type&quot;: &quot;Feature&quot;, &quot;geometry&quot;: {&quot;type&quot;: &quot;Point&quot;, &quot;coordinates&quot;: [-73.90596, 40.642253]}, &quot;properties&quot;: {&quot;prediction&quot;: 5.0}}, {&quot;type&quot;: &quot;Feature&quot;, &quot;geometry&quot;: {&quot;type&quot;: &quot;Point&quot;, &quot;coordinates&quot;: [-73.895494, 40.642619]}, &quot;properties&quot;: {&quot;prediction&quot;: 5.0}}, {&quot;type&quot;: &quot;Feature&quot;, &quot;geometry&quot;: {&quot;type&quot;: &quot;Point&quot;, &quot;coordinates&quot;: [-73.894101, 40.643573]}, &quot;properties&quot;: {&quot;prediction&quot;: 5.0}}, {&quot;type&quot;: &quot;Feature&quot;, &quot;geometry&quot;: {&quot;type&quot;: &quot;Point&quot;, &quot;coordinates&quot;: [-73.895009, 40.644474]}, &quot;properties&quot;: {&quot;prediction&quot;: 5.0}}, {&quot;type&quot;: &quot;Feature&quot;, &quot;geometry&quot;: {&quot;type&quot;: &quot;Point&quot;, &quot;coordinates&quot;: [-73.89495, 40.644512]}, &quot;properties&quot;: {&quot;prediction&quot;: 5.0}}, {&quot;type&quot;: &quot;Feature&quot;, &quot;geometry&quot;: {&quot;type&quot;: &quot;Point&quot;, &quot;coordinates&quot;: [-73.826856, 40.678155]}, &quot;properties&quot;: {&quot;prediction&quot;: 0.0}}, {&quot;type&quot;: &quot;Feature&quot;, &quot;geometry&quot;: {&quot;type&quot;: &quot;Point&quot;, &quot;coordinates&quot;: [-73.817391, 40.67867]}, &quot;properties&quot;: {&quot;prediction&quot;: 0.0}}, {&quot;type&quot;: &quot;Feature&quot;, &quot;geometry&quot;: {&quot;type&quot;: &quot;Point&quot;, &quot;coordinates&quot;: [-73.974121, 40.678874]}, &quot;properties&quot;: {&quot;prediction&quot;: 8.0}}, {&quot;type&quot;: &quot;Feature&quot;, &quot;geometry&quot;: {&quot;type&quot;: &quot;Point&quot;, &quot;coordinates&quot;: [-73.847501, 40.679381]}, &quot;properties&quot;: {&quot;prediction&quot;: 0.0}}, {&quot;type&quot;: &quot;Feature&quot;, &quot;geometry&quot;: {&quot;type&quot;: &quot;Point&quot;, &quot;coordinates&quot;: [-73.834074, 40.680211]}, &quot;properties&quot;: {&quot;prediction&quot;: 0.0}}, {&quot;type&quot;: &quot;Feature&quot;, &quot;geometry&quot;: {&quot;type&quot;: &quot;Point&quot;, &quot;coordinates&quot;: [-73.808694, 40.681601]}, &quot;properties&quot;: {&quot;prediction&quot;: 4.0}}, {&quot;type&quot;: &quot;Feature&quot;, &quot;geometry&quot;: {&quot;type&quot;: &quot;Point&quot;, &quot;coordinates&quot;: [-73.826026, 40.682256]}, &quot;properties&quot;: {&quot;prediction&quot;: 0.0}}, {&quot;type&quot;: &quot;Feature&quot;, &quot;geometry&quot;: {&quot;type&quot;: &quot;Point&quot;, &quot;coordinates&quot;: [-73.812205, 40.682476]}, &quot;properties&quot;: {&quot;prediction&quot;: 0.0}}, {&quot;type&quot;: &quot;Feature&quot;, &quot;geometry&quot;: {&quot;type&quot;: &quot;Point&quot;, &quot;coordinates&quot;: [-73.990608, 40.682764]}, &quot;properties&quot;: {&quot;prediction&quot;: 8.0}}, {&quot;type&quot;: &quot;Feature&quot;, &quot;geometry&quot;: {&quot;type&quot;: &quot;Point&quot;, &quot;coordinates&quot;: [-73.816461, 40.682883]}, &quot;properties&quot;: {&quot;prediction&quot;: 0.0}}, {&quot;type&quot;: &quot;Feature&quot;, &quot;geometry&quot;: {&quot;type&quot;: &quot;Point&quot;, &quot;coordinates&quot;: [-73.831563, 40.683216]}, &quot;properties&quot;: {&quot;prediction&quot;: 0.0}}, {&quot;type&quot;: &quot;Feature&quot;, &quot;geometry&quot;: {&quot;type&quot;: &quot;Point&quot;, &quot;coordinates&quot;: [-73.845593, 40.683431]}, &quot;properties&quot;: {&quot;prediction&quot;: 0.0}}, {&quot;type&quot;: &quot;Feature&quot;, &quot;geometry&quot;: {&quot;type&quot;: &quot;Point&quot;, &quot;coordinates&quot;: [-73.821794, 40.683508]}, &quot;properties&quot;: {&quot;prediction&quot;: 0.0}}, {&quot;type&quot;: &quot;Feature&quot;, &quot;geometry&quot;: {&quot;type&quot;: &quot;Point&quot;, &quot;coordinates&quot;: [-73.840501, 40.68355]}, &quot;properties&quot;: {&quot;prediction&quot;: 0.0}}, {&quot;type&quot;: &quot;Feature&quot;, &quot;geometry&quot;: {&quot;type&quot;: &quot;Point&quot;, &quot;coordinates&quot;: [-73.831788, 40.683663]}, &quot;properties&quot;: {&quot;prediction&quot;: 0.0}}, {&quot;type&quot;: &quot;Feature&quot;, &quot;geometry&quot;: {&quot;type&quot;: &quot;Point&quot;, &quot;coordinates&quot;: [-73.845773, 40.683771]}, &quot;properties&quot;: {&quot;prediction&quot;: 0.0}}, {&quot;type&quot;: &quot;Feature&quot;, &quot;geometry&quot;: {&quot;type&quot;: &quot;Point&quot;, &quot;coordinates&quot;: [-73.827888, 40.684162]}, &quot;properties&quot;: {&quot;prediction&quot;: 0.0}}, {&quot;type&quot;: &quot;Feature&quot;, &quot;geometry&quot;: {&quot;type&quot;: &quot;Point&quot;, &quot;coordinates&quot;: [-73.84019, 40.684575]}, &quot;properties&quot;: {&quot;prediction&quot;: 0.0}}, {&quot;type&quot;: &quot;Feature&quot;, &quot;geometry&quot;: {&quot;type&quot;: &quot;Point&quot;, &quot;coordinates&quot;: [-73.841501, 40.685545]}, &quot;properties&quot;: {&quot;prediction&quot;: 0.0}}, {&quot;type&quot;: &quot;Feature&quot;, &quot;geometry&quot;: {&quot;type&quot;: &quot;Point&quot;, &quot;coordinates&quot;: [-73.832463, 40.68584]}, &quot;properties&quot;: {&quot;prediction&quot;: 0.0}}, {&quot;type&quot;: &quot;Feature&quot;, &quot;geometry&quot;: {&quot;type&quot;: &quot;Point&quot;, &quot;coordinates&quot;: [-73.830792, 40.686099]}, &quot;properties&quot;: {&quot;prediction&quot;: 0.0}}, {&quot;type&quot;: &quot;Feature&quot;, &quot;geometry&quot;: {&quot;type&quot;: &quot;Point&quot;, &quot;coordinates&quot;: [-73.829871, 40.686198]}, &quot;properties&quot;: {&quot;prediction&quot;: 0.0}}, {&quot;type&quot;: &quot;Feature&quot;, &quot;geometry&quot;: {&quot;type&quot;: &quot;Point&quot;, &quot;coordinates&quot;: [-73.819475, 40.686421]}, &quot;properties&quot;: {&quot;prediction&quot;: 0.0}}, {&quot;type&quot;: &quot;Feature&quot;, &quot;geometry&quot;: {&quot;type&quot;: &quot;Point&quot;, &quot;coordinates&quot;: [-73.973475, 40.686446]}, &quot;properties&quot;: {&quot;prediction&quot;: 8.0}}, {&quot;type&quot;: &quot;Feature&quot;, &quot;geometry&quot;: {&quot;type&quot;: &quot;Point&quot;, &quot;coordinates&quot;: [-73.833935, 40.686605]}, &quot;properties&quot;: {&quot;prediction&quot;: 0.0}}, {&quot;type&quot;: &quot;Feature&quot;, &quot;geometry&quot;: {&quot;type&quot;: &quot;Point&quot;, &quot;coordinates&quot;: [-73.833232, 40.687083]}, &quot;properties&quot;: {&quot;prediction&quot;: 0.0}}, {&quot;type&quot;: &quot;Feature&quot;, &quot;geometry&quot;: {&quot;type&quot;: &quot;Point&quot;, &quot;coordinates&quot;: [-73.917106, 40.687372]}, &quot;properties&quot;: {&quot;prediction&quot;: 5.0}}, {&quot;type&quot;: &quot;Feature&quot;, &quot;geometry&quot;: {&quot;type&quot;: &quot;Point&quot;, &quot;coordinates&quot;: [-73.837971, 40.688472]}, &quot;properties&quot;: {&quot;prediction&quot;: 0.0}}, {&quot;type&quot;: &quot;Feature&quot;, &quot;geometry&quot;: {&quot;type&quot;: &quot;Point&quot;, &quot;coordinates&quot;: [-73.915213, 40.689312]}, &quot;properties&quot;: {&quot;prediction&quot;: 0.0}}, {&quot;type&quot;: &quot;Feature&quot;, &quot;geometry&quot;: {&quot;type&quot;: &quot;Point&quot;, &quot;coordinates&quot;: [-73.792652, 40.689388]}, &quot;properties&quot;: {&quot;prediction&quot;: 4.0}}, {&quot;type&quot;: &quot;Feature&quot;, &quot;geometry&quot;: {&quot;type&quot;: &quot;Point&quot;, &quot;coordinates&quot;: [-73.818933, 40.68939]}, &quot;properties&quot;: {&quot;prediction&quot;: 0.0}}, {&quot;type&quot;: &quot;Feature&quot;, &quot;geometry&quot;: {&quot;type&quot;: &quot;Point&quot;, &quot;coordinates&quot;: [-73.823414, 40.689524]}, &quot;properties&quot;: {&quot;prediction&quot;: 0.0}}, {&quot;type&quot;: &quot;Feature&quot;, &quot;geometry&quot;: {&quot;type&quot;: &quot;Point&quot;, &quot;coordinates&quot;: [-73.822489, 40.690057]}, &quot;properties&quot;: {&quot;prediction&quot;: 0.0}}, {&quot;type&quot;: &quot;Feature&quot;, &quot;geometry&quot;: {&quot;type&quot;: &quot;Point&quot;, &quot;coordinates&quot;: [-73.838328, 40.691213]}, &quot;properties&quot;: {&quot;prediction&quot;: 0.0}}, {&quot;type&quot;: &quot;Feature&quot;, &quot;geometry&quot;: {&quot;type&quot;: &quot;Point&quot;, &quot;coordinates&quot;: [-73.811705, 40.69134]}, &quot;properties&quot;: {&quot;prediction&quot;: 4.0}}, {&quot;type&quot;: &quot;Feature&quot;, &quot;geometry&quot;: {&quot;type&quot;: &quot;Point&quot;, &quot;coordinates&quot;: [-73.793819, 40.69246]}, &quot;properties&quot;: {&quot;prediction&quot;: 4.0}}, {&quot;type&quot;: &quot;Feature&quot;, &quot;geometry&quot;: {&quot;type&quot;: &quot;Point&quot;, &quot;coordinates&quot;: [-73.780929, 40.693849]}, &quot;properties&quot;: {&quot;prediction&quot;: 4.0}}, {&quot;type&quot;: &quot;Feature&quot;, &quot;geometry&quot;: {&quot;type&quot;: &quot;Point&quot;, &quot;coordinates&quot;: [-73.803651, 40.695597]}, &quot;properties&quot;: {&quot;prediction&quot;: 4.0}}, {&quot;type&quot;: &quot;Feature&quot;, &quot;geometry&quot;: {&quot;type&quot;: &quot;Point&quot;, &quot;coordinates&quot;: [-73.779449, 40.696599]}, &quot;properties&quot;: {&quot;prediction&quot;: 4.0}}, {&quot;type&quot;: &quot;Feature&quot;, &quot;geometry&quot;: {&quot;type&quot;: &quot;Point&quot;, &quot;coordinates&quot;: [-73.783495, 40.699181]}, &quot;properties&quot;: {&quot;prediction&quot;: 4.0}}, {&quot;type&quot;: &quot;Feature&quot;, &quot;geometry&quot;: {&quot;type&quot;: &quot;Point&quot;, &quot;coordinates&quot;: [-73.746516, 40.701277]}, &quot;properties&quot;: {&quot;prediction&quot;: 4.0}}, {&quot;type&quot;: &quot;Feature&quot;, &quot;geometry&quot;: {&quot;type&quot;: &quot;Point&quot;, &quot;coordinates&quot;: [-73.757503, 40.701845]}, &quot;properties&quot;: {&quot;prediction&quot;: 4.0}}, {&quot;type&quot;: &quot;Feature&quot;, &quot;geometry&quot;: {&quot;type&quot;: &quot;Point&quot;, &quot;coordinates&quot;: [-73.768798, 40.704884]}, &quot;properties&quot;: {&quot;prediction&quot;: 4.0}}, {&quot;type&quot;: &quot;Feature&quot;, &quot;geometry&quot;: {&quot;type&quot;: &quot;Point&quot;, &quot;coordinates&quot;: [-73.75496, 40.709233]}, &quot;properties&quot;: {&quot;prediction&quot;: 4.0}}, {&quot;type&quot;: &quot;Feature&quot;, &quot;geometry&quot;: {&quot;type&quot;: &quot;Point&quot;, &quot;coordinates&quot;: [-73.740234, 40.71045]}, &quot;properties&quot;: {&quot;prediction&quot;: 4.0}}, {&quot;type&quot;: &quot;Feature&quot;, &quot;geometry&quot;: {&quot;type&quot;: &quot;Point&quot;, &quot;coordinates&quot;: [-73.753896, 40.711401]}, &quot;properties&quot;: {&quot;prediction&quot;: 4.0}}, {&quot;type&quot;: &quot;Feature&quot;, &quot;geometry&quot;: {&quot;type&quot;: &quot;Point&quot;, &quot;coordinates&quot;: [-73.83146, 40.715793]}, &quot;properties&quot;: {&quot;prediction&quot;: 0.0}}, {&quot;type&quot;: &quot;Feature&quot;, &quot;geometry&quot;: {&quot;type&quot;: &quot;Point&quot;, &quot;coordinates&quot;: [-73.842331, 40.721193]}, &quot;properties&quot;: {&quot;prediction&quot;: 0.0}}, {&quot;type&quot;: &quot;Feature&quot;, &quot;geometry&quot;: {&quot;type&quot;: &quot;Point&quot;, &quot;coordinates&quot;: [-73.841069, 40.722455]}, &quot;properties&quot;: {&quot;prediction&quot;: 0.0}}, {&quot;type&quot;: &quot;Feature&quot;, &quot;geometry&quot;: {&quot;type&quot;: &quot;Point&quot;, &quot;coordinates&quot;: [-73.841717, 40.723028]}, &quot;properties&quot;: {&quot;prediction&quot;: 0.0}}, {&quot;type&quot;: &quot;Feature&quot;, &quot;geometry&quot;: {&quot;type&quot;: &quot;Point&quot;, &quot;coordinates&quot;: [-73.841867, 40.725282]}, &quot;properties&quot;: {&quot;prediction&quot;: 0.0}}, {&quot;type&quot;: &quot;Feature&quot;, &quot;geometry&quot;: {&quot;type&quot;: &quot;Point&quot;, &quot;coordinates&quot;: [-73.850356, 40.731184]}, &quot;properties&quot;: {&quot;prediction&quot;: 0.0}}, {&quot;type&quot;: &quot;Feature&quot;, &quot;geometry&quot;: {&quot;type&quot;: &quot;Point&quot;, &quot;coordinates&quot;: [-73.848439, 40.731755]}, &quot;properties&quot;: {&quot;prediction&quot;: 0.0}}, {&quot;type&quot;: &quot;Feature&quot;, &quot;geometry&quot;: {&quot;type&quot;: &quot;Point&quot;, &quot;coordinates&quot;: [-73.851262, 40.732448]}, &quot;properties&quot;: {&quot;prediction&quot;: 0.0}}, {&quot;type&quot;: &quot;Feature&quot;, &quot;geometry&quot;: {&quot;type&quot;: &quot;Point&quot;, &quot;coordinates&quot;: [-73.866873, 40.754368]}, &quot;properties&quot;: {&quot;prediction&quot;: 2.0}}, {&quot;type&quot;: &quot;Feature&quot;, &quot;geometry&quot;: {&quot;type&quot;: &quot;Point&quot;, &quot;coordinates&quot;: [-73.859948, 40.754698]}, &quot;properties&quot;: {&quot;prediction&quot;: 2.0}}, {&quot;type&quot;: &quot;Feature&quot;, &quot;geometry&quot;: {&quot;type&quot;: &quot;Point&quot;, &quot;coordinates&quot;: [-73.866977, 40.75563]}, &quot;properties&quot;: {&quot;prediction&quot;: 2.0}}, {&quot;type&quot;: &quot;Feature&quot;, &quot;geometry&quot;: {&quot;type&quot;: &quot;Point&quot;, &quot;coordinates&quot;: [-73.864231, 40.755922]}, &quot;properties&quot;: {&quot;prediction&quot;: 2.0}}, {&quot;type&quot;: &quot;Feature&quot;, &quot;geometry&quot;: {&quot;type&quot;: &quot;Point&quot;, &quot;coordinates&quot;: [-73.864142, 40.75593]}, &quot;properties&quot;: {&quot;prediction&quot;: 2.0}}, {&quot;type&quot;: &quot;Feature&quot;, &quot;geometry&quot;: {&quot;type&quot;: &quot;Point&quot;, &quot;coordinates&quot;: [-73.869206, 40.761969]}, &quot;properties&quot;: {&quot;prediction&quot;: 2.0}}, {&quot;type&quot;: &quot;Feature&quot;, &quot;geometry&quot;: {&quot;type&quot;: &quot;Point&quot;, &quot;coordinates&quot;: [-73.795763, 40.791007]}, &quot;properties&quot;: {&quot;prediction&quot;: 4.0}}, {&quot;type&quot;: &quot;Feature&quot;, &quot;geometry&quot;: {&quot;type&quot;: &quot;Point&quot;, &quot;coordinates&quot;: [-73.880301, 40.825185]}, &quot;properties&quot;: {&quot;prediction&quot;: 6.0}}, {&quot;type&quot;: &quot;Feature&quot;, &quot;geometry&quot;: {&quot;type&quot;: &quot;Point&quot;, &quot;coordinates&quot;: [-73.927673, 40.833054]}, &quot;properties&quot;: {&quot;prediction&quot;: 6.0}}, {&quot;type&quot;: &quot;Feature&quot;, &quot;geometry&quot;: {&quot;type&quot;: &quot;Point&quot;, &quot;coordinates&quot;: [-73.926397, 40.834714]}, &quot;properties&quot;: {&quot;prediction&quot;: 6.0}}, {&quot;type&quot;: &quot;Feature&quot;, &quot;geometry&quot;: {&quot;type&quot;: &quot;Point&quot;, &quot;coordinates&quot;: [-73.856666, 40.875192]}, &quot;properties&quot;: {&quot;prediction&quot;: 6.0}}]};\n",
       "        geomtype = divineGeometryType(mapdata);\n",
       "        \n",
       "            var ds = {\n",
       "                &quot;type&quot;:&quot;geojson&quot;,\n",
       "                &quot;data&quot;:mapdata\n",
       "            };\n",
       "            var clusterme = false;\n",
       "            if (geomtype.substr(-5,5) == &quot;Point&quot;) {\n",
       "                \n",
       "            }\n",
       "            map.addSource(&quot;pxdatasource&quot;, ds);\n",
       "\n",
       "            var maplayertype = &quot;circle&quot;;\n",
       "            if (geomtype.substr(-7,7) == &quot;Polygon&quot;) \n",
       "                maplayertype = &quot;fill&quot;;\n",
       "            else if (geomtype.substr(-10,10) == &quot;LineString&quot;)\n",
       "                maplayertype = &quot;line&quot;;\n",
       "            map.addLayer({\n",
       "                &quot;id&quot;:&quot;pxlayer&quot;,\n",
       "                &quot;type&quot;:maplayertype, \n",
       "                &quot;source&quot;: &quot;pxdatasource&quot;, \n",
       "                &quot;paint&quot;: {&quot;circle-color&quot;: {&quot;stops&quot;: [[0.0, &quot;#e66101&quot;], [0.0, &quot;#83d211&quot;], [3.0, &quot;#20be5e&quot;], [5.0, &quot;#2e7cab&quot;], [8.0, &quot;#5e3c99&quot;]], &quot;property&quot;: &quot;prediction&quot;}, &quot;circle-opacity&quot;: 1.0, &quot;circle-radius&quot;: 12}\n",
       "            });\n",
       "            \n",
       "            if (clusterme &amp;&amp; geomtype.substr(-5,5) == &quot;Point&quot;) {\n",
       "                map.addLayer({\n",
       "                    &quot;id&quot;: &quot;cluster-count-labels&quot;, \n",
       "                    &quot;type&quot;: &quot;symbol&quot;, \n",
       "                    &quot;source&quot;: &quot;pxdatasource&quot;, \n",
       "                    &quot;paint&quot;: {\n",
       "                        &quot;text-color&quot;: &quot;#FFF&quot;\n",
       "                    },\n",
       "                    &quot;layout&quot;: {\n",
       "                        &quot;text-field&quot;: &quot;{point_count}&quot;, \n",
       "                        &quot;text-font&quot;: [\n",
       "                            &quot;DIN Offc Pro Medium&quot;, \n",
       "                            &quot;Arial Unicode MS Bold&quot;\n",
       "                        ],\n",
       "                        &quot;text-size&quot;: 12\n",
       "                    }\n",
       "                });\n",
       "            }\n",
       "        \n",
       "        \n",
       "\n",
       "        comment = &quot;Add user layers&quot;;\n",
       "        var layers = [];\n",
       "        \n",
       "        layers.sort(function(a,b) {\n",
       "            return a[1] - b[1];\n",
       "        });\n",
       "        for (layersi=layers.length-1; layersi>=0; layersi--) {\n",
       "            map.addLayer(layers[layersi][0]);\n",
       "            comment = &quot;User layer legend&quot;;\n",
       "            \n",
       "        }\n",
       "        \n",
       "        map.fitBounds([[-74.171669, 1.0], [1.0, 40.875192]]);\n",
       "        \n",
       "        \n",
       "    });\n",
       "</script>\n",
       "</body>\n",
       "</html>\" onload=\"iframeLoaded(this)\"></iframe>\n",
       "<script>\n",
       "  var iframe = document.getElementById('mapframef0031c97');\n",
       "  iframe.setAttribute('srcdoc', atob('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'));\n",
       "</script>\n",
       "\n",
       "        </div>"
      ],
      "text/plain": [
       "<IPython.core.display.HTML object>"
      ]
     },
     "metadata": {},
     "output_type": "display_data"
    }
   ],
   "source": [
    "display(predictions)"
   ]
  },
  {
   "cell_type": "markdown",
   "metadata": {},
   "source": [
    "### Visualization Result\n",
    "\n",
    "Showing first 100 rows in:\n",
    "\n",
    "- Cluster 0, 2, 3, 4, 5, 6, 7, 8\n",
    "\n",
    "![Clustering](img/cluster-7.jpg)\n",
    "\n",
    "- Cluster 1\n",
    "\n",
    "![Clustering](img/cluster-6.jpg)"
   ]
  }
 ],
 "metadata": {
  "kernelspec": {
   "display_name": "Python 3",
   "language": "python",
   "name": "python3"
  },
  "language_info": {
   "codemirror_mode": {
    "name": "ipython",
    "version": 3
   },
   "file_extension": ".py",
   "mimetype": "text/x-python",
   "name": "python",
   "nbconvert_exporter": "python",
   "pygments_lexer": "ipython3",
   "version": "3.5.4"
  }
 },
 "nbformat": 4,
 "nbformat_minor": 2
}
