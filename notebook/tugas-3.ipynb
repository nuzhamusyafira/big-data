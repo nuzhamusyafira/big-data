{
 "cells": [
  {
   "cell_type": "markdown",
   "metadata": {},
   "source": [
    "## Initialization"
   ]
  },
  {
   "cell_type": "code",
   "execution_count": 1,
   "metadata": {},
   "outputs": [],
   "source": [
    "# import findspark\n",
    "import findspark\n",
    "findspark.init()"
   ]
  },
  {
   "cell_type": "code",
   "execution_count": 2,
   "metadata": {},
   "outputs": [],
   "source": [
    "# import SparkSession\n",
    "from pyspark.sql import SparkSession"
   ]
  },
  {
   "cell_type": "code",
   "execution_count": 3,
   "metadata": {},
   "outputs": [],
   "source": [
    "# import FPGrowth\n",
    "from pyspark.ml.fpm import FPGrowth"
   ]
  },
  {
   "cell_type": "code",
   "execution_count": 4,
   "metadata": {},
   "outputs": [],
   "source": [
    "# import functions\n",
    "from pyspark.sql import functions as F"
   ]
  },
  {
   "cell_type": "code",
   "execution_count": 5,
   "metadata": {},
   "outputs": [],
   "source": [
    "# create session\n",
    "spark = SparkSession \\\n",
    "    .builder \\\n",
    "    .appName(\"FPGrowthExample\") \\\n",
    "    .getOrCreate()"
   ]
  },
  {
   "cell_type": "code",
   "execution_count": 6,
   "metadata": {},
   "outputs": [
    {
     "name": "stdout",
     "output_type": "stream",
     "text": [
      "<pyspark.sql.session.SparkSession object at 0x000000CEB4287278>\n"
     ]
    }
   ],
   "source": [
    "print(spark)"
   ]
  },
  {
   "cell_type": "code",
   "execution_count": 7,
   "metadata": {},
   "outputs": [],
   "source": [
    "# read dataset\n",
    "df = spark.read.csv(\"olist_order_items_dataset.csv\", header=True, inferSchema=True)"
   ]
  },
  {
   "cell_type": "code",
   "execution_count": 8,
   "metadata": {},
   "outputs": [
    {
     "data": {
      "text/plain": [
       "Row(order_id='00010242fe8c5a6d1ba2dd792cb16214', order_item_id=1, product_id='4244733e06e7ecb4970a6e2683c13e61', seller_id='48436dade18ac8b2bce089ec2a041202', shipping_limit_date=datetime.datetime(2017, 9, 19, 9, 45, 35), price=58.9, freight_value=13.29)"
      ]
     },
     "execution_count": 8,
     "metadata": {},
     "output_type": "execute_result"
    }
   ],
   "source": [
    "# find out attributes\n",
    "df.head()"
   ]
  },
  {
   "cell_type": "code",
   "execution_count": 9,
   "metadata": {},
   "outputs": [
    {
     "data": {
      "text/plain": [
       "StructType(List(StructField(order_id,StringType,true),StructField(order_item_id,IntegerType,true),StructField(product_id,StringType,true),StructField(seller_id,StringType,true),StructField(shipping_limit_date,TimestampType,true),StructField(price,DoubleType,true),StructField(freight_value,DoubleType,true)))"
      ]
     },
     "execution_count": 9,
     "metadata": {},
     "output_type": "execute_result"
    }
   ],
   "source": [
    "# find out each schema\n",
    "df.schema"
   ]
  },
  {
   "cell_type": "markdown",
   "metadata": {},
   "source": [
    "## Pre-Processing"
   ]
  },
  {
   "cell_type": "code",
   "execution_count": 10,
   "metadata": {},
   "outputs": [],
   "source": [
    "# drop unnecessary columns\n",
    "df = df.drop('order_item_id','seller_id','shipping_limit_date','price','freight_value')"
   ]
  },
  {
   "cell_type": "code",
   "execution_count": 11,
   "metadata": {},
   "outputs": [
    {
     "data": {
      "text/plain": [
       "Row(order_id='00010242fe8c5a6d1ba2dd792cb16214', product_id='4244733e06e7ecb4970a6e2683c13e61')"
      ]
     },
     "execution_count": 11,
     "metadata": {},
     "output_type": "execute_result"
    }
   ],
   "source": [
    "# find out new attributes\n",
    "df.head()"
   ]
  },
  {
   "cell_type": "code",
   "execution_count": 12,
   "metadata": {},
   "outputs": [
    {
     "data": {
      "text/plain": [
       "StructType(List(StructField(order_id,StringType,true),StructField(product_id,StringType,true)))"
      ]
     },
     "execution_count": 12,
     "metadata": {},
     "output_type": "execute_result"
    }
   ],
   "source": [
    "# find out new schema\n",
    "df.schema"
   ]
  },
  {
   "cell_type": "code",
   "execution_count": 13,
   "metadata": {},
   "outputs": [
    {
     "data": {
      "text/plain": [
       "112650"
      ]
     },
     "execution_count": 13,
     "metadata": {},
     "output_type": "execute_result"
    }
   ],
   "source": [
    "# find out dataset's length\n",
    "df.count()"
   ]
  },
  {
   "cell_type": "code",
   "execution_count": 14,
   "metadata": {},
   "outputs": [
    {
     "data": {
      "text/plain": [
       "102425"
      ]
     },
     "execution_count": 14,
     "metadata": {},
     "output_type": "execute_result"
    }
   ],
   "source": [
    "# drop duplicate datas (same order_id and product_id) that could cause\n",
    "# redundant items in one order_id\n",
    "df = df.dropDuplicates()\n",
    "df.count()"
   ]
  },
  {
   "cell_type": "code",
   "execution_count": 15,
   "metadata": {},
   "outputs": [],
   "source": [
    "# joining several (product_id) rows into 1 row based on order_id as the key\n",
    "df = df.groupBy('order_id').agg(F.collect_list('product_id'))"
   ]
  },
  {
   "cell_type": "code",
   "execution_count": 16,
   "metadata": {},
   "outputs": [
    {
     "name": "stdout",
     "output_type": "stream",
     "text": [
      "+--------------------+------------------------+\n",
      "|            order_id|collect_list(product_id)|\n",
      "+--------------------+------------------------+\n",
      "|014405982914c2cde...|    [e95ee6822b66ac60...|\n",
      "|019886de8f385a39b...|    [e9a69340883a438c...|\n",
      "|01a6ad782455876aa...|    [036734b5a58d5d4f...|\n",
      "|01d907b3e209269e1...|    [b1434a8f79cb3528...|\n",
      "|028dc52e12ddda803...|    [d86a6c48f83b045c...|\n",
      "|036dd381dfb3ec75e...|    [aa8d88eb4b9cb388...|\n",
      "|03ebfa9712b7dbc70...|    [aa6746e94490239d...|\n",
      "|0420da8d50a378401...|    [5ca739ddd646d1ba...|\n",
      "|05afef1c185862cab...|    [ac7e981115ad47f0...|\n",
      "|05bef443b85068505...|    [44e086c4a977f37a...|\n",
      "|05d46826bd0fb605d...|    [e84d1a4a08db13e8...|\n",
      "|06fec3f6e9e72edb6...|    [8562e2c780a345b6...|\n",
      "|077700dcf4e3bb412...|    [6cd0d08f09a8b324...|\n",
      "|078c2d9bb7e5905e8...|    [ce5a5a85a0704113...|\n",
      "|08791ec24b12af5af...|    [11250b0d4b709fee...|\n",
      "|08b450b388221bfe5...|    [9a803c36a15de3fd...|\n",
      "|0957ed870116e596b...|    [5b8423dc7f23089c...|\n",
      "|09868b0eb512bfbbe...|    [f35927953ed82e19...|\n",
      "|099d60cb800db65a7...|    [4621f88827b98333...|\n",
      "|09e90e3936db197d4...|    [e4c7ed7a832858c1...|\n",
      "+--------------------+------------------------+\n",
      "only showing top 20 rows\n",
      "\n"
     ]
    }
   ],
   "source": [
    "# check out the new DataFrame\n",
    "df.show()"
   ]
  },
  {
   "cell_type": "code",
   "execution_count": 17,
   "metadata": {},
   "outputs": [],
   "source": [
    "# change column name from 'collect_list(product_id)' to 'items'\n",
    "df = df.withColumnRenamed('collect_list(product_id)', 'items')"
   ]
  },
  {
   "cell_type": "code",
   "execution_count": 18,
   "metadata": {},
   "outputs": [
    {
     "name": "stdout",
     "output_type": "stream",
     "text": [
      "+--------------------+--------------------+\n",
      "|            order_id|               items|\n",
      "+--------------------+--------------------+\n",
      "|014405982914c2cde...|[e95ee6822b66ac60...|\n",
      "|019886de8f385a39b...|[e9a69340883a438c...|\n",
      "|01a6ad782455876aa...|[036734b5a58d5d4f...|\n",
      "|01d907b3e209269e1...|[b1434a8f79cb3528...|\n",
      "|028dc52e12ddda803...|[d86a6c48f83b045c...|\n",
      "|036dd381dfb3ec75e...|[aa8d88eb4b9cb388...|\n",
      "|03ebfa9712b7dbc70...|[aa6746e94490239d...|\n",
      "|0420da8d50a378401...|[5ca739ddd646d1ba...|\n",
      "|05afef1c185862cab...|[ac7e981115ad47f0...|\n",
      "|05bef443b85068505...|[44e086c4a977f37a...|\n",
      "|05d46826bd0fb605d...|[e84d1a4a08db13e8...|\n",
      "|06fec3f6e9e72edb6...|[8562e2c780a345b6...|\n",
      "|077700dcf4e3bb412...|[6cd0d08f09a8b324...|\n",
      "|078c2d9bb7e5905e8...|[ce5a5a85a0704113...|\n",
      "|08791ec24b12af5af...|[11250b0d4b709fee...|\n",
      "|08b450b388221bfe5...|[9a803c36a15de3fd...|\n",
      "|0957ed870116e596b...|[5b8423dc7f23089c...|\n",
      "|09868b0eb512bfbbe...|[f35927953ed82e19...|\n",
      "|099d60cb800db65a7...|[4621f88827b98333...|\n",
      "|09e90e3936db197d4...|[e4c7ed7a832858c1...|\n",
      "+--------------------+--------------------+\n",
      "only showing top 20 rows\n",
      "\n"
     ]
    }
   ],
   "source": [
    "df.show()"
   ]
  },
  {
   "cell_type": "markdown",
   "metadata": {},
   "source": [
    "## Training Models"
   ]
  },
  {
   "cell_type": "markdown",
   "metadata": {},
   "source": [
    "### Model 1"
   ]
  },
  {
   "cell_type": "code",
   "execution_count": 19,
   "metadata": {},
   "outputs": [],
   "source": [
    "fpGrowth = FPGrowth(itemsCol='items', minSupport=0.05, minConfidence=0.1)\n",
    "model1 = fpGrowth.fit(df)"
   ]
  },
  {
   "cell_type": "code",
   "execution_count": 20,
   "metadata": {},
   "outputs": [
    {
     "name": "stdout",
     "output_type": "stream",
     "text": [
      "+-----+----+\n",
      "|items|freq|\n",
      "+-----+----+\n",
      "+-----+----+\n",
      "\n"
     ]
    }
   ],
   "source": [
    "# display frequent itemsets\n",
    "model1.freqItemsets.show()"
   ]
  },
  {
   "cell_type": "markdown",
   "metadata": {},
   "source": [
    "### Model 2"
   ]
  },
  {
   "cell_type": "code",
   "execution_count": 21,
   "metadata": {},
   "outputs": [],
   "source": [
    "fpGrowth = FPGrowth(itemsCol='items', minSupport=0.005, minConfidence=0.01)\n",
    "model2 = fpGrowth.fit(df)"
   ]
  },
  {
   "cell_type": "code",
   "execution_count": 22,
   "metadata": {},
   "outputs": [
    {
     "name": "stdout",
     "output_type": "stream",
     "text": [
      "+-----+----+\n",
      "|items|freq|\n",
      "+-----+----+\n",
      "+-----+----+\n",
      "\n"
     ]
    }
   ],
   "source": [
    "# display frequent itemsets\n",
    "model2.freqItemsets.show()"
   ]
  },
  {
   "cell_type": "markdown",
   "metadata": {},
   "source": [
    "### Model 3"
   ]
  },
  {
   "cell_type": "code",
   "execution_count": 23,
   "metadata": {},
   "outputs": [],
   "source": [
    "fpGrowth = FPGrowth(itemsCol='items', minSupport=0.0005, minConfidence=0.001)\n",
    "model3= fpGrowth.fit(df)"
   ]
  },
  {
   "cell_type": "code",
   "execution_count": 24,
   "metadata": {},
   "outputs": [
    {
     "name": "stdout",
     "output_type": "stream",
     "text": [
      "+--------------------+----+\n",
      "|               items|freq|\n",
      "+--------------------+----+\n",
      "|[99a4788cb2485696...| 467|\n",
      "|[aca2eb7d00ea1a7b...| 431|\n",
      "|[422879e10f466829...| 352|\n",
      "|[d1c427060a0f73f6...| 323|\n",
      "|[389d119b48cf3043...| 311|\n",
      "|[53b36df67ebb7c41...| 306|\n",
      "|[368c6c730842d780...| 291|\n",
      "|[53759a2ecddad2bb...| 287|\n",
      "|[154e7e31ebfa0922...| 269|\n",
      "|[2b4609f8948be188...| 259|\n",
      "|[3dd2a17168ec895c...| 255|\n",
      "|[7c1bd920dbdf2247...| 225|\n",
      "|[e0d64dcfaa3b6db5...| 194|\n",
      "|[5a848e4ab52fd544...| 194|\n",
      "|[bb50f2e236e5eea0...| 187|\n",
      "|[a62e25e09e05e6fa...| 172|\n",
      "|[42a2c92a0979a949...| 160|\n",
      "|[a92930c327948861...| 158|\n",
      "|[e53e557d5a159f5a...| 156|\n",
      "|[35afc973633aaeb6...| 156|\n",
      "+--------------------+----+\n",
      "only showing top 20 rows\n",
      "\n"
     ]
    }
   ],
   "source": [
    "# display frequent itemsets\n",
    "model3.freqItemsets.show()"
   ]
  },
  {
   "cell_type": "markdown",
   "metadata": {},
   "source": [
    "### Model 4"
   ]
  },
  {
   "cell_type": "code",
   "execution_count": 25,
   "metadata": {},
   "outputs": [],
   "source": [
    "fpGrowth = FPGrowth(itemsCol='items', minSupport=0.00005, minConfidence=0.0001)\n",
    "model4= fpGrowth.fit(df)"
   ]
  },
  {
   "cell_type": "code",
   "execution_count": 26,
   "metadata": {},
   "outputs": [
    {
     "data": {
      "text/plain": [
       "4211"
      ]
     },
     "execution_count": 26,
     "metadata": {},
     "output_type": "execute_result"
    }
   ],
   "source": [
    "# display frequent itemsets\n",
    "model4.freqItemsets.count()"
   ]
  },
  {
   "cell_type": "markdown",
   "metadata": {},
   "source": [
    "## Generating Rules"
   ]
  },
  {
   "cell_type": "markdown",
   "metadata": {},
   "source": [
    "We're going to use model4's configuration as a sample to generate rules."
   ]
  },
  {
   "cell_type": "code",
   "execution_count": 27,
   "metadata": {},
   "outputs": [
    {
     "name": "stdout",
     "output_type": "stream",
     "text": [
      "+--------------------+--------------------+--------------------+\n",
      "|          antecedent|          consequent|          confidence|\n",
      "+--------------------+--------------------+--------------------+\n",
      "|[3f14d740544f37ec...|[36f60d45225e60c7...| 0.14814814814814814|\n",
      "|[0aabfb375647d973...|[6c3effec7c8ddba4...|0.036231884057971016|\n",
      "|[5d790355cbeded0c...|[5fc3e6a4b52b0c41...|               0.375|\n",
      "|[4d0ec1e9b95fb62f...|[9ad75bd7267e5c72...| 0.46153846153846156|\n",
      "|[ee57070aa3b24a06...|[0d85c435fd60b277...|  0.2608695652173913|\n",
      "|[18486698933fbb64...|[dbb67791e405873b...|  0.4117647058823529|\n",
      "|[35afc973633aaeb6...|[99a4788cb2485696...|  0.1858974358974359|\n",
      "|[99a4788cb2485696...|[35afc973633aaeb6...| 0.06209850107066381|\n",
      "|[99a4788cb2485696...|[f2e53dd1670f3c37...| 0.01284796573875803|\n",
      "|[e53e557d5a159f5a...|[36f60d45225e60c7...| 0.21794871794871795|\n",
      "|[53759a2ecddad2bb...|[422879e10f466829...|0.024390243902439025|\n",
      "|[53759a2ecddad2bb...|[389d119b48cf3043...|  0.0313588850174216|\n",
      "|[53759a2ecddad2bb...|[368c6c730842d780...|0.027874564459930314|\n",
      "|[b7d94dc0640c7025...|[3ce943997ff85cad...|                 0.5|\n",
      "|[946344697156947d...|[ad0a798e7941f3a5...|                 0.4|\n",
      "|[36f60d45225e60c7...|[e53e557d5a159f5a...|  0.3063063063063063|\n",
      "|[36f60d45225e60c7...|[3f14d740544f37ec...| 0.10810810810810811|\n",
      "|[e6b314a2236c162e...|[ad4b5def91ac7c57...|  0.6666666666666666|\n",
      "|[389d119b48cf3043...|[422879e10f466829...| 0.03536977491961415|\n",
      "|[389d119b48cf3043...|[368c6c730842d780...| 0.01607717041800643|\n",
      "+--------------------+--------------------+--------------------+\n",
      "only showing top 20 rows\n",
      "\n"
     ]
    }
   ],
   "source": [
    "# display generated association rules\n",
    "model4.associationRules.show()"
   ]
  },
  {
   "cell_type": "code",
   "execution_count": null,
   "metadata": {},
   "outputs": [],
   "source": []
  }
 ],
 "metadata": {
  "kernelspec": {
   "display_name": "Python 3",
   "language": "python",
   "name": "python3"
  },
  "language_info": {
   "codemirror_mode": {
    "name": "ipython",
    "version": 3
   },
   "file_extension": ".py",
   "mimetype": "text/x-python",
   "name": "python",
   "nbconvert_exporter": "python",
   "pygments_lexer": "ipython3",
   "version": "3.5.4"
  }
 },
 "nbformat": 4,
 "nbformat_minor": 2
}
