{
 "cells": [
  {
   "cell_type": "markdown",
   "metadata": {},
   "source": [
    "## Initialization"
   ]
  },
  {
   "cell_type": "code",
   "execution_count": 1,
   "metadata": {},
   "outputs": [],
   "source": [
    "# import findspark\n",
    "import findspark\n",
    "findspark.init()"
   ]
  },
  {
   "cell_type": "code",
   "execution_count": 2,
   "metadata": {},
   "outputs": [],
   "source": [
    "# import SparkSession\n",
    "from pyspark.sql import SparkSession"
   ]
  },
  {
   "cell_type": "code",
   "execution_count": 3,
   "metadata": {},
   "outputs": [],
   "source": [
    "# import FPGrowth\n",
    "from pyspark.ml.fpm import FPGrowth"
   ]
  },
  {
   "cell_type": "code",
   "execution_count": 4,
   "metadata": {},
   "outputs": [],
   "source": [
    "# import functions\n",
    "from pyspark.sql import functions as F"
   ]
  },
  {
   "cell_type": "code",
   "execution_count": 5,
   "metadata": {},
   "outputs": [],
   "source": [
    "# create session\n",
    "spark = SparkSession \\\n",
    "    .builder \\\n",
    "    .appName(\"FPGrowthExample\") \\\n",
    "    .getOrCreate()"
   ]
  },
  {
   "cell_type": "code",
   "execution_count": 6,
   "metadata": {},
   "outputs": [
    {
     "name": "stdout",
     "output_type": "stream",
     "text": [
      "<pyspark.sql.session.SparkSession object at 0x000000A57B022E48>\n"
     ]
    }
   ],
   "source": [
    "print(spark)"
   ]
  },
  {
   "cell_type": "code",
   "execution_count": 7,
   "metadata": {},
   "outputs": [],
   "source": [
    "# read dataset\n",
    "df = spark.read.csv(\"olist_order_items_dataset.csv\", header=True, inferSchema=True)"
   ]
  },
  {
   "cell_type": "code",
   "execution_count": 8,
   "metadata": {},
   "outputs": [
    {
     "data": {
      "text/plain": [
       "Row(order_id='00010242fe8c5a6d1ba2dd792cb16214', order_item_id=1, product_id='4244733e06e7ecb4970a6e2683c13e61', seller_id='48436dade18ac8b2bce089ec2a041202', shipping_limit_date=datetime.datetime(2017, 9, 19, 9, 45, 35), price=58.9, freight_value=13.29)"
      ]
     },
     "execution_count": 8,
     "metadata": {},
     "output_type": "execute_result"
    }
   ],
   "source": [
    "# find out attributes\n",
    "df.head()"
   ]
  },
  {
   "cell_type": "code",
   "execution_count": 9,
   "metadata": {},
   "outputs": [
    {
     "data": {
      "text/plain": [
       "StructType(List(StructField(order_id,StringType,true),StructField(order_item_id,IntegerType,true),StructField(product_id,StringType,true),StructField(seller_id,StringType,true),StructField(shipping_limit_date,TimestampType,true),StructField(price,DoubleType,true),StructField(freight_value,DoubleType,true)))"
      ]
     },
     "execution_count": 9,
     "metadata": {},
     "output_type": "execute_result"
    }
   ],
   "source": [
    "# find out each schema\n",
    "df.schema"
   ]
  },
  {
   "cell_type": "markdown",
   "metadata": {},
   "source": [
    "## Pre-Processing"
   ]
  },
  {
   "cell_type": "code",
   "execution_count": 10,
   "metadata": {},
   "outputs": [],
   "source": [
    "# drop unnecessary columns\n",
    "df = df.drop('order_item_id','seller_id','shipping_limit_date','price','freight_value')"
   ]
  },
  {
   "cell_type": "code",
   "execution_count": 11,
   "metadata": {},
   "outputs": [
    {
     "data": {
      "text/plain": [
       "Row(order_id='00010242fe8c5a6d1ba2dd792cb16214', product_id='4244733e06e7ecb4970a6e2683c13e61')"
      ]
     },
     "execution_count": 11,
     "metadata": {},
     "output_type": "execute_result"
    }
   ],
   "source": [
    "# find out new attributes\n",
    "df.head()"
   ]
  },
  {
   "cell_type": "code",
   "execution_count": 12,
   "metadata": {},
   "outputs": [
    {
     "data": {
      "text/plain": [
       "StructType(List(StructField(order_id,StringType,true),StructField(product_id,StringType,true)))"
      ]
     },
     "execution_count": 12,
     "metadata": {},
     "output_type": "execute_result"
    }
   ],
   "source": [
    "# find out new schema\n",
    "df.schema"
   ]
  },
  {
   "cell_type": "code",
   "execution_count": 13,
   "metadata": {},
   "outputs": [],
   "source": [
    "# drop duplicate datas (same order_id and product_id) that could cause\n",
    "# redundant items in one order_id\n",
    "df = df.dropDuplicates()"
   ]
  },
  {
   "cell_type": "code",
   "execution_count": 14,
   "metadata": {},
   "outputs": [],
   "source": [
    "# joining several (product_id) rows into 1 row based on order_id as the key\n",
    "df = df.groupBy('order_id').agg(F.collect_list('product_id'))"
   ]
  },
  {
   "cell_type": "code",
   "execution_count": 15,
   "metadata": {},
   "outputs": [
    {
     "name": "stdout",
     "output_type": "stream",
     "text": [
      "+--------------------+------------------------+\n",
      "|            order_id|collect_list(product_id)|\n",
      "+--------------------+------------------------+\n",
      "|014405982914c2cde...|    [e95ee6822b66ac60...|\n",
      "|019886de8f385a39b...|    [e9a69340883a438c...|\n",
      "|01a6ad782455876aa...|    [036734b5a58d5d4f...|\n",
      "|01d907b3e209269e1...|    [b1434a8f79cb3528...|\n",
      "|028dc52e12ddda803...|    [d86a6c48f83b045c...|\n",
      "|036dd381dfb3ec75e...|    [aa8d88eb4b9cb388...|\n",
      "|03ebfa9712b7dbc70...|    [aa6746e94490239d...|\n",
      "|0420da8d50a378401...|    [5ca739ddd646d1ba...|\n",
      "|05afef1c185862cab...|    [ac7e981115ad47f0...|\n",
      "|05bef443b85068505...|    [44e086c4a977f37a...|\n",
      "|05d46826bd0fb605d...|    [e84d1a4a08db13e8...|\n",
      "|06fec3f6e9e72edb6...|    [8562e2c780a345b6...|\n",
      "|077700dcf4e3bb412...|    [6cd0d08f09a8b324...|\n",
      "|078c2d9bb7e5905e8...|    [ce5a5a85a0704113...|\n",
      "|08791ec24b12af5af...|    [11250b0d4b709fee...|\n",
      "|08b450b388221bfe5...|    [9a803c36a15de3fd...|\n",
      "|0957ed870116e596b...|    [5b8423dc7f23089c...|\n",
      "|09868b0eb512bfbbe...|    [f35927953ed82e19...|\n",
      "|099d60cb800db65a7...|    [4621f88827b98333...|\n",
      "|09e90e3936db197d4...|    [e4c7ed7a832858c1...|\n",
      "+--------------------+------------------------+\n",
      "only showing top 20 rows\n",
      "\n"
     ]
    }
   ],
   "source": [
    "# check out the new DataFrame\n",
    "df.show()"
   ]
  },
  {
   "cell_type": "code",
   "execution_count": 16,
   "metadata": {},
   "outputs": [],
   "source": [
    "# change column name from 'collect_list(product_id)' to 'items'\n",
    "df = df.withColumnRenamed('collect_list(product_id)', 'items')"
   ]
  },
  {
   "cell_type": "code",
   "execution_count": 17,
   "metadata": {},
   "outputs": [
    {
     "name": "stdout",
     "output_type": "stream",
     "text": [
      "+--------------------+--------------------+\n",
      "|            order_id|               items|\n",
      "+--------------------+--------------------+\n",
      "|014405982914c2cde...|[e95ee6822b66ac60...|\n",
      "|019886de8f385a39b...|[e9a69340883a438c...|\n",
      "|01a6ad782455876aa...|[036734b5a58d5d4f...|\n",
      "|01d907b3e209269e1...|[b1434a8f79cb3528...|\n",
      "|028dc52e12ddda803...|[d86a6c48f83b045c...|\n",
      "|036dd381dfb3ec75e...|[aa8d88eb4b9cb388...|\n",
      "|03ebfa9712b7dbc70...|[aa6746e94490239d...|\n",
      "|0420da8d50a378401...|[5ca739ddd646d1ba...|\n",
      "|05afef1c185862cab...|[ac7e981115ad47f0...|\n",
      "|05bef443b85068505...|[44e086c4a977f37a...|\n",
      "|05d46826bd0fb605d...|[e84d1a4a08db13e8...|\n",
      "|06fec3f6e9e72edb6...|[8562e2c780a345b6...|\n",
      "|077700dcf4e3bb412...|[6cd0d08f09a8b324...|\n",
      "|078c2d9bb7e5905e8...|[ce5a5a85a0704113...|\n",
      "|08791ec24b12af5af...|[11250b0d4b709fee...|\n",
      "|08b450b388221bfe5...|[9a803c36a15de3fd...|\n",
      "|0957ed870116e596b...|[5b8423dc7f23089c...|\n",
      "|09868b0eb512bfbbe...|[f35927953ed82e19...|\n",
      "|099d60cb800db65a7...|[4621f88827b98333...|\n",
      "|09e90e3936db197d4...|[e4c7ed7a832858c1...|\n",
      "+--------------------+--------------------+\n",
      "only showing top 20 rows\n",
      "\n"
     ]
    }
   ],
   "source": [
    "df.show()"
   ]
  }
 ],
 "metadata": {
  "kernelspec": {
   "display_name": "Python 3",
   "language": "python",
   "name": "python3"
  },
  "language_info": {
   "codemirror_mode": {
    "name": "ipython",
    "version": 3
   },
   "file_extension": ".py",
   "mimetype": "text/x-python",
   "name": "python",
   "nbconvert_exporter": "python",
   "pygments_lexer": "ipython3",
   "version": "3.5.4"
  }
 },
 "nbformat": 4,
 "nbformat_minor": 2
}
