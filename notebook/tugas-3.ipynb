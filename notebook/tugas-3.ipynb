{
 "cells": [
  {
   "cell_type": "markdown",
   "metadata": {},
   "source": [
    "# Generating Frequent Itemsets and Association Rules using FP-Growth"
   ]
  },
  {
   "cell_type": "markdown",
   "metadata": {},
   "source": [
    "## Initialization"
   ]
  },
  {
   "cell_type": "code",
   "execution_count": 1,
   "metadata": {},
   "outputs": [],
   "source": [
    "# import findspark\n",
    "import findspark\n",
    "findspark.init()"
   ]
  },
  {
   "cell_type": "code",
   "execution_count": 2,
   "metadata": {},
   "outputs": [],
   "source": [
    "# import SparkSession\n",
    "from pyspark.sql import SparkSession"
   ]
  },
  {
   "cell_type": "code",
   "execution_count": 3,
   "metadata": {},
   "outputs": [],
   "source": [
    "# import FPGrowth\n",
    "from pyspark.ml.fpm import FPGrowth"
   ]
  },
  {
   "cell_type": "code",
   "execution_count": 4,
   "metadata": {},
   "outputs": [],
   "source": [
    "# import functions\n",
    "from pyspark.sql import functions as F"
   ]
  },
  {
   "cell_type": "code",
   "execution_count": 5,
   "metadata": {},
   "outputs": [],
   "source": [
    "# create session\n",
    "spark = SparkSession \\\n",
    "    .builder \\\n",
    "    .appName(\"FPGrowthExample\") \\\n",
    "    .getOrCreate()"
   ]
  },
  {
   "cell_type": "code",
   "execution_count": 6,
   "metadata": {},
   "outputs": [
    {
     "name": "stdout",
     "output_type": "stream",
     "text": [
      "<pyspark.sql.session.SparkSession object at 0x0000002B89F41EB8>\n"
     ]
    }
   ],
   "source": [
    "print(spark)"
   ]
  },
  {
   "cell_type": "code",
   "execution_count": 7,
   "metadata": {},
   "outputs": [],
   "source": [
    "# read dataset\n",
    "df = spark.read.csv(\"olist_order_items_dataset.csv\", header=True, inferSchema=True)"
   ]
  },
  {
   "cell_type": "code",
   "execution_count": 8,
   "metadata": {},
   "outputs": [
    {
     "data": {
      "text/plain": [
       "Row(order_id='00010242fe8c5a6d1ba2dd792cb16214', order_item_id=1, product_id='4244733e06e7ecb4970a6e2683c13e61', seller_id='48436dade18ac8b2bce089ec2a041202', shipping_limit_date=datetime.datetime(2017, 9, 19, 9, 45, 35), price=58.9, freight_value=13.29)"
      ]
     },
     "execution_count": 8,
     "metadata": {},
     "output_type": "execute_result"
    }
   ],
   "source": [
    "# find out attributes\n",
    "df.head()"
   ]
  },
  {
   "cell_type": "code",
   "execution_count": 9,
   "metadata": {},
   "outputs": [
    {
     "data": {
      "text/plain": [
       "StructType(List(StructField(order_id,StringType,true),StructField(order_item_id,IntegerType,true),StructField(product_id,StringType,true),StructField(seller_id,StringType,true),StructField(shipping_limit_date,TimestampType,true),StructField(price,DoubleType,true),StructField(freight_value,DoubleType,true)))"
      ]
     },
     "execution_count": 9,
     "metadata": {},
     "output_type": "execute_result"
    }
   ],
   "source": [
    "# find out each schema\n",
    "df.schema"
   ]
  },
  {
   "cell_type": "markdown",
   "metadata": {},
   "source": [
    "## Pre-Processing"
   ]
  },
  {
   "cell_type": "code",
   "execution_count": 10,
   "metadata": {},
   "outputs": [],
   "source": [
    "# drop unnecessary columns\n",
    "df = df.drop('order_item_id','seller_id','shipping_limit_date','price','freight_value')"
   ]
  },
  {
   "cell_type": "code",
   "execution_count": 11,
   "metadata": {},
   "outputs": [
    {
     "name": "stdout",
     "output_type": "stream",
     "text": [
      "+--------------------+--------------------+\n",
      "|            order_id|          product_id|\n",
      "+--------------------+--------------------+\n",
      "|00010242fe8c5a6d1...|4244733e06e7ecb49...|\n",
      "|00018f77f2f0320c5...|e5f2d52b802189ee6...|\n",
      "|000229ec398224ef6...|c777355d18b72b67a...|\n",
      "|00024acbcdf0a6daa...|7634da152a4610f15...|\n",
      "|00042b26cf59d7ce6...|ac6c3623068f30de0...|\n",
      "|00048cc3ae777c65d...|ef92defde845ab845...|\n",
      "|00054e8431b9d7675...|8d4f2bb7e93e6710a...|\n",
      "|000576fe39319847c...|557d850972a7d6f79...|\n",
      "|0005a1a1728c9d785...|310ae3c140ff94b03...|\n",
      "|0005f50442cb953dc...|4535b0e1091c278df...|\n",
      "|00061f2a7bc09da83...|d63c1011f49d98b97...|\n",
      "|00063b381e2406b52...|f177554ea93259a5b...|\n",
      "|0006ec9db01a64e59...|99a4788cb24856965...|\n",
      "|0008288aa423d2a3f...|368c6c730842d7801...|\n",
      "|0008288aa423d2a3f...|368c6c730842d7801...|\n",
      "|0009792311464db53...|8cab8abac59158715...|\n",
      "|0009c9a17f916a706...|3f27ac8e699df3d30...|\n",
      "|000aed2e25dbad2f9...|4fa33915031a8cde0...|\n",
      "|000c3e6612759851c...|b50c950aba0dcead2...|\n",
      "|000e562887b1f2006...|5ed9eaf534f6936b5...|\n",
      "+--------------------+--------------------+\n",
      "only showing top 20 rows\n",
      "\n"
     ]
    }
   ],
   "source": [
    "df.show()"
   ]
  },
  {
   "cell_type": "markdown",
   "metadata": {},
   "source": [
    "### Generating Mapping Dataset"
   ]
  },
  {
   "cell_type": "markdown",
   "metadata": {},
   "source": [
    "Because both the values of product_id are too long, we're going to shorten those by joining it with products original dataset."
   ]
  },
  {
   "cell_type": "code",
   "execution_count": 12,
   "metadata": {},
   "outputs": [],
   "source": [
    "# read products dataset\n",
    "df_product = spark.read.csv(\"olist_products_dataset.csv\", header=True, inferSchema=True)"
   ]
  },
  {
   "cell_type": "code",
   "execution_count": 13,
   "metadata": {},
   "outputs": [
    {
     "data": {
      "text/plain": [
       "Row(product_id='1e9e8ef04dbcff4541ed26657ea517e5', product_category_name='perfumaria', product_name_lenght=40, product_description_lenght=287, product_photos_qty=1, product_weight_g=225, product_length_cm=16, product_height_cm=10, product_width_cm=14)"
      ]
     },
     "execution_count": 13,
     "metadata": {},
     "output_type": "execute_result"
    }
   ],
   "source": [
    "df_product.head()"
   ]
  },
  {
   "cell_type": "code",
   "execution_count": 14,
   "metadata": {},
   "outputs": [],
   "source": [
    "# since there's no 'product_name', we will take necessary column (product_id) only\n",
    "df_product = df_product.select('product_id')"
   ]
  },
  {
   "cell_type": "code",
   "execution_count": 15,
   "metadata": {},
   "outputs": [],
   "source": [
    "# we're adding new column 'new_product_id' that will act as a new product_id\n",
    "df_product = df_product.withColumn('new_product_id', F.monotonically_increasing_id())"
   ]
  },
  {
   "cell_type": "code",
   "execution_count": 16,
   "metadata": {},
   "outputs": [
    {
     "name": "stdout",
     "output_type": "stream",
     "text": [
      "+--------------------+--------------+\n",
      "|          product_id|new_product_id|\n",
      "+--------------------+--------------+\n",
      "|1e9e8ef04dbcff454...|             0|\n",
      "|3aa071139cb16b67c...|             1|\n",
      "|96bd76ec8810374ed...|             2|\n",
      "|cef67bcfe19066a93...|             3|\n",
      "|9dc1a7de274444849...|             4|\n",
      "|41d3672d4792049fa...|             5|\n",
      "|732bd381ad09e530f...|             6|\n",
      "|2548af3e6e77a690c...|             7|\n",
      "|37cc742be07708b53...|             8|\n",
      "|8c92109888e8cdf9d...|             9|\n",
      "|14aa47b7fe5c25522...|            10|\n",
      "|03b63c5fc16691530...|            11|\n",
      "|cf55509ea8edaaac1...|            12|\n",
      "|7bb6f29c2be577161...|            13|\n",
      "|eb31436580a610f20...|            14|\n",
      "|3bb7f144022e67327...|            15|\n",
      "|6a2fb4dd53d2cdb88...|            16|\n",
      "|a1b71017a84f92fd8...|            17|\n",
      "|a0736b92e52f6cead...|            18|\n",
      "|f53103a77d9cf245e...|            19|\n",
      "+--------------------+--------------+\n",
      "only showing top 20 rows\n",
      "\n"
     ]
    }
   ],
   "source": [
    "df_product.show()"
   ]
  },
  {
   "cell_type": "code",
   "execution_count": 17,
   "metadata": {},
   "outputs": [
    {
     "data": {
      "text/plain": [
       "32951"
      ]
     },
     "execution_count": 17,
     "metadata": {},
     "output_type": "execute_result"
    }
   ],
   "source": [
    "df_product.count()"
   ]
  },
  {
   "cell_type": "code",
   "execution_count": 18,
   "metadata": {},
   "outputs": [
    {
     "name": "stdout",
     "output_type": "stream",
     "text": [
      "+--------------------+--------------+\n",
      "|          product_id|new_product_id|\n",
      "+--------------------+--------------+\n",
      "|106392145fca36341...|         32950|\n",
      "+--------------------+--------------+\n",
      "\n"
     ]
    }
   ],
   "source": [
    "df_product.filter(df_product['new_product_id'] > 32949).show()"
   ]
  },
  {
   "cell_type": "markdown",
   "metadata": {},
   "source": [
    "### Joining Datasets"
   ]
  },
  {
   "cell_type": "code",
   "execution_count": 19,
   "metadata": {},
   "outputs": [],
   "source": [
    "# join df and df_product on 'product_id' as the key, then return 'order_id'\n",
    "# and 'new_product_id'\n",
    "df = df.join(df_product, df.product_id == df_product.product_id).select('order_id', 'new_product_id')"
   ]
  },
  {
   "cell_type": "code",
   "execution_count": 20,
   "metadata": {},
   "outputs": [
    {
     "name": "stdout",
     "output_type": "stream",
     "text": [
      "+--------------------+--------------+\n",
      "|            order_id|new_product_id|\n",
      "+--------------------+--------------+\n",
      "|00010242fe8c5a6d1...|         25865|\n",
      "|00018f77f2f0320c5...|         27230|\n",
      "|000229ec398224ef6...|         22624|\n",
      "|00024acbcdf0a6daa...|         15403|\n",
      "|00042b26cf59d7ce6...|          8862|\n",
      "|00048cc3ae777c65d...|          3939|\n",
      "|00054e8431b9d7675...|         22292|\n",
      "|000576fe39319847c...|          6974|\n",
      "|0005a1a1728c9d785...|          2713|\n",
      "|0005f50442cb953dc...|         28255|\n",
      "|00061f2a7bc09da83...|         14394|\n",
      "|00063b381e2406b52...|         23293|\n",
      "|0006ec9db01a64e59...|          9661|\n",
      "|0008288aa423d2a3f...|          4598|\n",
      "|0008288aa423d2a3f...|          4598|\n",
      "|0009792311464db53...|          1131|\n",
      "|0009c9a17f916a706...|          9418|\n",
      "|000aed2e25dbad2f9...|         30285|\n",
      "|000c3e6612759851c...|          1402|\n",
      "|000e562887b1f2006...|          2780|\n",
      "+--------------------+--------------+\n",
      "only showing top 20 rows\n",
      "\n"
     ]
    }
   ],
   "source": [
    "df.show()"
   ]
  },
  {
   "cell_type": "code",
   "execution_count": 21,
   "metadata": {},
   "outputs": [
    {
     "data": {
      "text/plain": [
       "112650"
      ]
     },
     "execution_count": 21,
     "metadata": {},
     "output_type": "execute_result"
    }
   ],
   "source": [
    "df.count()"
   ]
  },
  {
   "cell_type": "code",
   "execution_count": 22,
   "metadata": {},
   "outputs": [
    {
     "data": {
      "text/plain": [
       "102425"
      ]
     },
     "execution_count": 22,
     "metadata": {},
     "output_type": "execute_result"
    }
   ],
   "source": [
    "# drop duplicate data (same order_id and new_product_id) that could cause\n",
    "# redundant items in one order_id\n",
    "df = df.dropDuplicates()\n",
    "df.count()"
   ]
  },
  {
   "cell_type": "code",
   "execution_count": 23,
   "metadata": {},
   "outputs": [],
   "source": [
    "# merging several (product_id) rows into 1 row based on order_id as the key\n",
    "df = df.groupBy('order_id').agg(F.collect_list('new_product_id'))"
   ]
  },
  {
   "cell_type": "code",
   "execution_count": 24,
   "metadata": {},
   "outputs": [
    {
     "name": "stdout",
     "output_type": "stream",
     "text": [
      "+--------------------+----------------------------+\n",
      "|            order_id|collect_list(new_product_id)|\n",
      "+--------------------+----------------------------+\n",
      "|014405982914c2cde...|              [21358, 16159]|\n",
      "|019886de8f385a39b...|                     [11533]|\n",
      "|01a6ad782455876aa...|                       [813]|\n",
      "|01d907b3e209269e1...|                     [17981]|\n",
      "|028dc52e12ddda803...|                     [22284]|\n",
      "|036dd381dfb3ec75e...|                     [19360]|\n",
      "|03ebfa9712b7dbc70...|                     [26097]|\n",
      "|0420da8d50a378401...|                      [9625]|\n",
      "|05afef1c185862cab...|                     [27869]|\n",
      "|05bef443b85068505...|                     [30938]|\n",
      "|05d46826bd0fb605d...|                      [5777]|\n",
      "|06fec3f6e9e72edb6...|                     [22557]|\n",
      "|077700dcf4e3bb412...|                      [8695]|\n",
      "|078c2d9bb7e5905e8...|              [17526, 10024]|\n",
      "|08791ec24b12af5af...|                     [26469]|\n",
      "|08b450b388221bfe5...|                     [14602]|\n",
      "|0957ed870116e596b...|                     [19775]|\n",
      "|09868b0eb512bfbbe...|                     [32354]|\n",
      "|099d60cb800db65a7...|                     [28857]|\n",
      "|09e90e3936db197d4...|                      [7627]|\n",
      "+--------------------+----------------------------+\n",
      "only showing top 20 rows\n",
      "\n"
     ]
    }
   ],
   "source": [
    "# check out the new DataFrame\n",
    "df.show()"
   ]
  },
  {
   "cell_type": "code",
   "execution_count": 25,
   "metadata": {},
   "outputs": [],
   "source": [
    "# change column name from 'collect_list(new_product_id)' to 'items'\n",
    "df = df.withColumnRenamed('collect_list(new_product_id)', 'items')"
   ]
  },
  {
   "cell_type": "code",
   "execution_count": 26,
   "metadata": {},
   "outputs": [
    {
     "name": "stdout",
     "output_type": "stream",
     "text": [
      "+--------------------+--------------+\n",
      "|            order_id|         items|\n",
      "+--------------------+--------------+\n",
      "|014405982914c2cde...|[21358, 16159]|\n",
      "|019886de8f385a39b...|       [11533]|\n",
      "|01a6ad782455876aa...|         [813]|\n",
      "|01d907b3e209269e1...|       [17981]|\n",
      "|028dc52e12ddda803...|       [22284]|\n",
      "|036dd381dfb3ec75e...|       [19360]|\n",
      "|03ebfa9712b7dbc70...|       [26097]|\n",
      "|0420da8d50a378401...|        [9625]|\n",
      "|05afef1c185862cab...|       [27869]|\n",
      "|05bef443b85068505...|       [30938]|\n",
      "|05d46826bd0fb605d...|        [5777]|\n",
      "|06fec3f6e9e72edb6...|       [22557]|\n",
      "|077700dcf4e3bb412...|        [8695]|\n",
      "|078c2d9bb7e5905e8...|[17526, 10024]|\n",
      "|08791ec24b12af5af...|       [26469]|\n",
      "|08b450b388221bfe5...|       [14602]|\n",
      "|0957ed870116e596b...|       [19775]|\n",
      "|09868b0eb512bfbbe...|       [32354]|\n",
      "|099d60cb800db65a7...|       [28857]|\n",
      "|09e90e3936db197d4...|        [7627]|\n",
      "+--------------------+--------------+\n",
      "only showing top 20 rows\n",
      "\n"
     ]
    }
   ],
   "source": [
    "df.show()"
   ]
  },
  {
   "cell_type": "markdown",
   "metadata": {},
   "source": [
    "## Training Models"
   ]
  },
  {
   "cell_type": "markdown",
   "metadata": {},
   "source": [
    "### Model 1"
   ]
  },
  {
   "cell_type": "code",
   "execution_count": 27,
   "metadata": {},
   "outputs": [],
   "source": [
    "fpGrowth = FPGrowth(itemsCol='items', minSupport=0.05, minConfidence=0.1)\n",
    "model1 = fpGrowth.fit(df)"
   ]
  },
  {
   "cell_type": "code",
   "execution_count": 28,
   "metadata": {},
   "outputs": [
    {
     "name": "stdout",
     "output_type": "stream",
     "text": [
      "+-----+----+\n",
      "|items|freq|\n",
      "+-----+----+\n",
      "+-----+----+\n",
      "\n"
     ]
    }
   ],
   "source": [
    "# display frequent itemsets\n",
    "model1.freqItemsets.show()"
   ]
  },
  {
   "cell_type": "markdown",
   "metadata": {},
   "source": [
    "### Model 2"
   ]
  },
  {
   "cell_type": "code",
   "execution_count": 29,
   "metadata": {},
   "outputs": [],
   "source": [
    "fpGrowth = FPGrowth(itemsCol='items', minSupport=0.005, minConfidence=0.01)\n",
    "model2 = fpGrowth.fit(df)"
   ]
  },
  {
   "cell_type": "code",
   "execution_count": 30,
   "metadata": {},
   "outputs": [
    {
     "name": "stdout",
     "output_type": "stream",
     "text": [
      "+-----+----+\n",
      "|items|freq|\n",
      "+-----+----+\n",
      "+-----+----+\n",
      "\n"
     ]
    }
   ],
   "source": [
    "# display frequent itemsets\n",
    "model2.freqItemsets.show()"
   ]
  },
  {
   "cell_type": "markdown",
   "metadata": {},
   "source": [
    "### Model 3"
   ]
  },
  {
   "cell_type": "code",
   "execution_count": 31,
   "metadata": {},
   "outputs": [],
   "source": [
    "fpGrowth = FPGrowth(itemsCol='items', minSupport=0.0005, minConfidence=0.001)\n",
    "model3 = fpGrowth.fit(df)"
   ]
  },
  {
   "cell_type": "code",
   "execution_count": 32,
   "metadata": {},
   "outputs": [
    {
     "name": "stdout",
     "output_type": "stream",
     "text": [
      "+-------+----+\n",
      "|  items|freq|\n",
      "+-------+----+\n",
      "| [9661]| 467|\n",
      "|[13430]| 431|\n",
      "|[14051]| 352|\n",
      "| [8290]| 323|\n",
      "|[30293]| 311|\n",
      "|  [793]| 306|\n",
      "| [4598]| 291|\n",
      "|[32098]| 287|\n",
      "| [1749]| 269|\n",
      "| [5822]| 259|\n",
      "|[29129]| 255|\n",
      "| [3047]| 225|\n",
      "|[11492]| 194|\n",
      "|[29568]| 194|\n",
      "|[16151]| 187|\n",
      "|[29348]| 172|\n",
      "|[32139]| 160|\n",
      "|[20571]| 158|\n",
      "|[32025]| 156|\n",
      "|[21395]| 156|\n",
      "+-------+----+\n",
      "only showing top 20 rows\n",
      "\n"
     ]
    }
   ],
   "source": [
    "# display frequent itemsets\n",
    "model3.freqItemsets.show()"
   ]
  },
  {
   "cell_type": "markdown",
   "metadata": {},
   "source": [
    "### Model 4"
   ]
  },
  {
   "cell_type": "code",
   "execution_count": 33,
   "metadata": {},
   "outputs": [],
   "source": [
    "fpGrowth = FPGrowth(itemsCol='items', minSupport=0.00005, minConfidence=0.0001)\n",
    "model4 = fpGrowth.fit(df)"
   ]
  },
  {
   "cell_type": "code",
   "execution_count": 34,
   "metadata": {},
   "outputs": [
    {
     "name": "stdout",
     "output_type": "stream",
     "text": [
      "+-------+----+\n",
      "|  items|freq|\n",
      "+-------+----+\n",
      "|[28923]|  42|\n",
      "| [7863]|   5|\n",
      "|[11481]|  26|\n",
      "|[26310]|  20|\n",
      "|[20444]|   8|\n",
      "| [2566]|   8|\n",
      "| [6110]|   5|\n",
      "|[12663]|   7|\n",
      "|[23957]|   5|\n",
      "| [3249]|  16|\n",
      "| [5731]|  14|\n",
      "|[25270]|  12|\n",
      "|[29351]|   7|\n",
      "|[27632]|   6|\n",
      "|[29901]|   6|\n",
      "|[32724]|  11|\n",
      "|[24931]|  10|\n",
      "| [1098]|   9|\n",
      "|[29365]|   6|\n",
      "| [9019]|   5|\n",
      "+-------+----+\n",
      "only showing top 20 rows\n",
      "\n"
     ]
    }
   ],
   "source": [
    "# display frequent itemsets\n",
    "model4.freqItemsets.show()"
   ]
  },
  {
   "cell_type": "markdown",
   "metadata": {},
   "source": [
    "## Generating Rules"
   ]
  },
  {
   "cell_type": "markdown",
   "metadata": {},
   "source": [
    "Since model1 and model2 didn't produce any itemset, thus we're going to use model3's and model4's configuration as a sample to generate rules."
   ]
  },
  {
   "cell_type": "code",
   "execution_count": 35,
   "metadata": {},
   "outputs": [
    {
     "name": "stdout",
     "output_type": "stream",
     "text": [
      "+----------+----------+----------+\n",
      "|antecedent|consequent|confidence|\n",
      "+----------+----------+----------+\n",
      "+----------+----------+----------+\n",
      "\n"
     ]
    }
   ],
   "source": [
    "# display generated association rules\n",
    "model3.associationRules.show()"
   ]
  },
  {
   "cell_type": "markdown",
   "metadata": {},
   "source": [
    "Apparently model3 generates no rule, now let's give it a try with model4."
   ]
  },
  {
   "cell_type": "code",
   "execution_count": 36,
   "metadata": {},
   "outputs": [
    {
     "name": "stdout",
     "output_type": "stream",
     "text": [
      "+----------+----------+--------------------+\n",
      "|antecedent|consequent|          confidence|\n",
      "+----------+----------+--------------------+\n",
      "|   [20490]|   [29010]|  0.1076923076923077|\n",
      "|   [29653]|   [11053]|0.060240963855421686|\n",
      "|    [6038]|    [9661]| 0.21428571428571427|\n",
      "|   [13176]|   [19813]|0.036231884057971016|\n",
      "|   [19861]|   [18705]| 0.15789473684210525|\n",
      "|   [18705]|   [19861]|                0.24|\n",
      "|   [26139]|   [15012]|  0.2857142857142857|\n",
      "|    [7358]|   [26457]| 0.46153846153846156|\n",
      "|   [21395]|    [6869]| 0.21794871794871795|\n",
      "|   [26457]|    [7358]| 0.14285714285714285|\n",
      "|   [22583]|   [29771]|  0.3157894736842105|\n",
      "|   [13240]|   [26389]|  0.6666666666666666|\n",
      "|    [9661]|   [32025]| 0.06209850107066381|\n",
      "|    [9661]|    [6038]| 0.01284796573875803|\n",
      "|   [26252]|    [6869]| 0.14814814814814814|\n",
      "|   [30293]|   [14051]| 0.03536977491961415|\n",
      "|   [30293]|    [4598]| 0.01607717041800643|\n",
      "|   [30293]|   [32098]|0.028938906752411574|\n",
      "|   [30895]|   [21478]|                 0.4|\n",
      "|   [29771]|   [22583]|               0.375|\n",
      "+----------+----------+--------------------+\n",
      "only showing top 20 rows\n",
      "\n"
     ]
    }
   ],
   "source": [
    "# display generated association rules\n",
    "model4.associationRules.show()"
   ]
  },
  {
   "cell_type": "markdown",
   "metadata": {},
   "source": [
    "## Testing Custom Inputs against Rules"
   ]
  },
  {
   "cell_type": "markdown",
   "metadata": {},
   "source": [
    "### Input 1"
   ]
  },
  {
   "cell_type": "code",
   "execution_count": 37,
   "metadata": {},
   "outputs": [],
   "source": [
    "input1 = spark.createDataFrame([\n",
    "    (0, [32098])\n",
    "], [\"order_id\", \"items\"])"
   ]
  },
  {
   "cell_type": "code",
   "execution_count": 38,
   "metadata": {},
   "outputs": [
    {
     "name": "stdout",
     "output_type": "stream",
     "text": [
      "+--------+-------+--------------------+\n",
      "|order_id|  items|          prediction|\n",
      "+--------+-------+--------------------+\n",
      "|       0|[32098]|[14051, 30293, 4598]|\n",
      "+--------+-------+--------------------+\n",
      "\n"
     ]
    }
   ],
   "source": [
    "model4.transform(input1).show()"
   ]
  },
  {
   "cell_type": "markdown",
   "metadata": {},
   "source": [
    "### Input 2"
   ]
  },
  {
   "cell_type": "code",
   "execution_count": 39,
   "metadata": {},
   "outputs": [],
   "source": [
    "input2 = spark.createDataFrame([\n",
    "    (0, [32098]),\n",
    "    (1, [30293, 4598])\n",
    "], [\"order_id\", \"items\"])"
   ]
  },
  {
   "cell_type": "code",
   "execution_count": 40,
   "metadata": {},
   "outputs": [
    {
     "name": "stdout",
     "output_type": "stream",
     "text": [
      "+--------+-------------+--------------------+\n",
      "|order_id|        items|          prediction|\n",
      "+--------+-------------+--------------------+\n",
      "|       0|      [32098]|[14051, 30293, 4598]|\n",
      "|       1|[30293, 4598]|      [14051, 32098]|\n",
      "+--------+-------------+--------------------+\n",
      "\n"
     ]
    }
   ],
   "source": [
    "model4.transform(input2).show()"
   ]
  },
  {
   "cell_type": "markdown",
   "metadata": {},
   "source": [
    "### Input 3"
   ]
  },
  {
   "cell_type": "code",
   "execution_count": 41,
   "metadata": {},
   "outputs": [],
   "source": [
    "input3 = spark.createDataFrame([\n",
    "    (0, [32098]),\n",
    "    (1, [30293, 4598]),\n",
    "    (2, [14051, 32098, 4598]),\n",
    "    (3, [14])\n",
    "], [\"order_id\", \"items\"])"
   ]
  },
  {
   "cell_type": "code",
   "execution_count": 42,
   "metadata": {},
   "outputs": [
    {
     "name": "stdout",
     "output_type": "stream",
     "text": [
      "+--------+--------------------+--------------------+\n",
      "|order_id|               items|          prediction|\n",
      "+--------+--------------------+--------------------+\n",
      "|       0|             [32098]|[14051, 30293, 4598]|\n",
      "|       1|       [30293, 4598]|      [14051, 32098]|\n",
      "|       2|[14051, 32098, 4598]|       [30293, 7345]|\n",
      "|       3|                [14]|                  []|\n",
      "+--------+--------------------+--------------------+\n",
      "\n"
     ]
    }
   ],
   "source": [
    "model4.transform(input3).show()"
   ]
  },
  {
   "cell_type": "markdown",
   "metadata": {},
   "source": [
    "## References"
   ]
  },
  {
   "cell_type": "markdown",
   "metadata": {},
   "source": [
    "1. https://kaggle.com/olistbr/brazilian-ecommerce\n",
    "2. https://spark.apache.org/docs/2.3.0/ml-frequent-pattern-mining.html\n",
    "3. https://stackoverflow.com/questions/29600673/how-to-delete-columns-in-pyspark-dataframe\n",
    "4. https://stackoverflow.com/questions/40945174/groupbykey-and-create-lists-of-values-pyspark-sql-dataframe\n",
    "5. https://stackoverflow.com/questions/37249291/fp-growth-items-in-a-transaction-must-be-unique\n",
    "6. https://stackoverflow.com/questions/32086578/how-to-add-row-id-in-pyspark-dataframes\n",
    "7. https://stackoverflow.com/questions/33092723/performing-lookup-translation-in-a-spark-rdd-or-data-frame-using-another-rdd-df"
   ]
  }
 ],
 "metadata": {
  "kernelspec": {
   "display_name": "Python 3",
   "language": "python",
   "name": "python3"
  },
  "language_info": {
   "codemirror_mode": {
    "name": "ipython",
    "version": 3
   },
   "file_extension": ".py",
   "mimetype": "text/x-python",
   "name": "python",
   "nbconvert_exporter": "python",
   "pygments_lexer": "ipython3",
   "version": "3.5.4"
  }
 },
 "nbformat": 4,
 "nbformat_minor": 2
}
