{
 "cells": [
  {
   "cell_type": "markdown",
   "metadata": {},
   "source": [
    "# Recommendation Systems using ALS"
   ]
  },
  {
   "cell_type": "markdown",
   "metadata": {},
   "source": [
    "## Initialization"
   ]
  },
  {
   "cell_type": "code",
   "execution_count": 1,
   "metadata": {},
   "outputs": [],
   "source": [
    "# import findspark\n",
    "import findspark\n",
    "findspark.init()"
   ]
  },
  {
   "cell_type": "code",
   "execution_count": 2,
   "metadata": {},
   "outputs": [],
   "source": [
    "# import functions\n",
    "from pyspark.sql import functions as F"
   ]
  },
  {
   "cell_type": "code",
   "execution_count": 3,
   "metadata": {},
   "outputs": [
    {
     "name": "stdout",
     "output_type": "stream",
     "text": [
      "<pyspark.sql.session.SparkSession object at 0x000000C2F99FBD68>\n"
     ]
    }
   ],
   "source": [
    "# import SparkSession\n",
    "from pyspark.sql import SparkSession\n",
    "\n",
    "# create session\n",
    "spark = SparkSession \\\n",
    "    .builder \\\n",
    "    .appName(\"Python Spark Recommendation Systems Example\") \\\n",
    "    .getOrCreate()\n",
    "\n",
    "print(spark)"
   ]
  },
  {
   "cell_type": "code",
   "execution_count": 4,
   "metadata": {},
   "outputs": [],
   "source": [
    "from pyspark.ml.evaluation import RegressionEvaluator\n",
    "from pyspark.ml.recommendation import ALS\n",
    "from pyspark.sql import Row"
   ]
  },
  {
   "cell_type": "markdown",
   "metadata": {},
   "source": [
    "## Preprocessing"
   ]
  },
  {
   "cell_type": "code",
   "execution_count": 5,
   "metadata": {},
   "outputs": [
    {
     "name": "stdout",
     "output_type": "stream",
     "text": [
      "+----------+-------+------+-------------------+\n",
      "|    userId|movieId|rating|          timestamp|\n",
      "+----------+-------+------+-------------------+\n",
      "|39032b0f7a|      1|   3.0|1997-11-06 06:36:16|\n",
      "|39032b0f7a|     17|   3.0|1997-11-06 05:26:18|\n",
      "|39032b0f7a|     21|   3.0|2000-10-02 07:45:30|\n",
      "|39032b0f7a|     34|   4.0|1997-11-06 05:45:08|\n",
      "|39032b0f7a|     62|   4.5|2003-06-18 04:09:17|\n",
      "|39032b0f7a|    140|   4.0|1998-11-18 22:04:03|\n",
      "|39032b0f7a|    144|   4.0|1997-11-06 06:46:48|\n",
      "|39032b0f7a|    150|   4.0|2005-03-20 08:25:29|\n",
      "|39032b0f7a|    237|   4.0|1997-11-06 05:57:16|\n",
      "|39032b0f7a|    260|   4.0|1998-11-18 22:04:03|\n",
      "|39032b0f7a|    281|   3.0|1997-11-06 05:56:10|\n",
      "|39032b0f7a|    318|   5.0|1998-11-18 21:52:09|\n",
      "|39032b0f7a|    329|   3.0|1998-07-26 21:58:28|\n",
      "|39032b0f7a|    339|   3.0|2001-08-15 09:59:00|\n",
      "|39032b0f7a|    349|   3.5|2014-01-14 04:37:55|\n",
      "|39032b0f7a|    356|   5.0|1997-11-09 01:32:51|\n",
      "|39032b0f7a|    357|   4.0|1997-11-09 01:43:58|\n",
      "|39032b0f7a|    361|   4.0|2002-02-17 03:50:47|\n",
      "|39032b0f7a|    364|   3.5|2005-05-19 17:20:02|\n",
      "|39032b0f7a|    368|   2.5|2003-06-18 04:05:18|\n",
      "+----------+-------+------+-------------------+\n",
      "only showing top 20 rows\n",
      "\n"
     ]
    }
   ],
   "source": [
    "ratings = spark.read.csv(\"item_ratings.csv\", header=True, inferSchema=True)\n",
    "ratings.show()"
   ]
  },
  {
   "cell_type": "code",
   "execution_count": 6,
   "metadata": {},
   "outputs": [],
   "source": [
    "ratings.createOrReplaceTempView(\"movies\")"
   ]
  },
  {
   "cell_type": "code",
   "execution_count": 7,
   "metadata": {},
   "outputs": [
    {
     "name": "stdout",
     "output_type": "stream",
     "text": [
      "+----------+\n",
      "|    userId|\n",
      "+----------+\n",
      "|9757c7c989|\n",
      "|3d197661f6|\n",
      "|9b2762e59a|\n",
      "|c52afe8592|\n",
      "|e7cec00b33|\n",
      "|dc4860fa10|\n",
      "|540152b69d|\n",
      "|d731228ef7|\n",
      "|ad1d76d5f3|\n",
      "|5266f376e5|\n",
      "|14a97ae2c1|\n",
      "|fa1c25f4ed|\n",
      "|820fd9f6ab|\n",
      "|dbcd17c098|\n",
      "|8fd865c0a9|\n",
      "|cc683ef8f7|\n",
      "|c7f3b4f1f9|\n",
      "|02f9cfbf86|\n",
      "|7fdcecb392|\n",
      "|9e95a9af82|\n",
      "+----------+\n",
      "only showing top 20 rows\n",
      "\n"
     ]
    }
   ],
   "source": [
    "new_id = spark.sql(\"SELECT DISTINCT userId FROM movies\")\n",
    "new_id.show()"
   ]
  },
  {
   "cell_type": "code",
   "execution_count": 8,
   "metadata": {},
   "outputs": [],
   "source": [
    "new_id.createOrReplaceTempView(\"newId\")"
   ]
  },
  {
   "cell_type": "code",
   "execution_count": 9,
   "metadata": {},
   "outputs": [
    {
     "name": "stdout",
     "output_type": "stream",
     "text": [
      "+----------+-------+\n",
      "|    userId|user_id|\n",
      "+----------+-------+\n",
      "|0011a9baea|      1|\n",
      "|00be0326d6|      2|\n",
      "|00d8a48617|      3|\n",
      "|0116910e54|      4|\n",
      "|0165b89cac|      5|\n",
      "|01da6d8da5|      6|\n",
      "|01ebe04c6d|      7|\n",
      "|01f5bfd446|      8|\n",
      "|0228ccbd55|      9|\n",
      "|022e78bf03|     10|\n",
      "|02839371ac|     11|\n",
      "|02f9cfbf86|     12|\n",
      "|02fe0bb9bb|     13|\n",
      "|0331949b45|     14|\n",
      "|0484a2df5c|     15|\n",
      "|050c1a5781|     16|\n",
      "|052ed67c6f|     17|\n",
      "|0544a57e31|     18|\n",
      "|055188f003|     19|\n",
      "|05f38ec2d0|     20|\n",
      "+----------+-------+\n",
      "only showing top 20 rows\n",
      "\n"
     ]
    }
   ],
   "source": [
    "new_user_id = spark.sql(\"SELECT userId, ROW_NUMBER() OVER (ORDER BY userId) AS user_id FROM newId\")\n",
    "new_user_id.show()"
   ]
  },
  {
   "cell_type": "code",
   "execution_count": 10,
   "metadata": {},
   "outputs": [
    {
     "name": "stdout",
     "output_type": "stream",
     "text": [
      "+----------+-------+------+-------------------+----------+-------+\n",
      "|    userId|movieId|rating|          timestamp|    userId|user_id|\n",
      "+----------+-------+------+-------------------+----------+-------+\n",
      "|3d197661f6|      1|   4.0|2015-09-08 15:56:12|3d197661f6|    230|\n",
      "|3d197661f6|      2|   3.0|2015-09-08 03:57:58|3d197661f6|    230|\n",
      "|3d197661f6|      6|   3.5|2015-09-08 03:08:02|3d197661f6|    230|\n",
      "|3d197661f6|     10|   3.0|2015-09-08 14:46:10|3d197661f6|    230|\n",
      "|3d197661f6|     13|   3.0|2015-09-08 15:02:32|3d197661f6|    230|\n",
      "|3d197661f6|     16|   4.0|2015-09-08 02:54:44|3d197661f6|    230|\n",
      "|3d197661f6|     32|   4.0|2015-09-08 04:52:08|3d197661f6|    230|\n",
      "|3d197661f6|     34|   3.5|2015-09-08 15:33:18|3d197661f6|    230|\n",
      "|3d197661f6|     44|   2.0|2015-09-08 13:44:46|3d197661f6|    230|\n",
      "|3d197661f6|     47|   4.0|2015-09-08 04:48:31|3d197661f6|    230|\n",
      "|3d197661f6|     48|   3.0|2015-09-08 14:56:13|3d197661f6|    230|\n",
      "|3d197661f6|     50|   4.0|2015-09-08 15:54:46|3d197661f6|    230|\n",
      "|3d197661f6|     62|   3.0|2015-09-08 14:56:05|3d197661f6|    230|\n",
      "|3d197661f6|    110|   3.5|2015-09-08 15:20:56|3d197661f6|    230|\n",
      "|3d197661f6|    111|   5.0|2015-09-08 02:55:53|3d197661f6|    230|\n",
      "|3d197661f6|    150|   3.5|2015-09-08 04:52:04|3d197661f6|    230|\n",
      "|3d197661f6|    153|   2.5|2015-09-08 03:22:30|3d197661f6|    230|\n",
      "|3d197661f6|    158|   2.5|2015-09-08 13:56:10|3d197661f6|    230|\n",
      "|3d197661f6|    215|   4.0|2015-09-08 05:17:13|3d197661f6|    230|\n",
      "|3d197661f6|    216|   1.5|2015-09-08 19:11:10|3d197661f6|    230|\n",
      "+----------+-------+------+-------------------+----------+-------+\n",
      "only showing top 20 rows\n",
      "\n"
     ]
    }
   ],
   "source": [
    "ratings = ratings.join(new_user_id, ratings.userId == new_user_id.userId)\n",
    "ratings.show()"
   ]
  },
  {
   "cell_type": "code",
   "execution_count": 11,
   "metadata": {},
   "outputs": [],
   "source": [
    "ratings = ratings.select('user_id', 'movieId', 'rating')"
   ]
  },
  {
   "cell_type": "code",
   "execution_count": 12,
   "metadata": {},
   "outputs": [
    {
     "name": "stdout",
     "output_type": "stream",
     "text": [
      "+------+-------+------+\n",
      "|userId|movieId|rating|\n",
      "+------+-------+------+\n",
      "|   230|      1|   4.0|\n",
      "|   230|      2|   3.0|\n",
      "|   230|      6|   3.5|\n",
      "|   230|     10|   3.0|\n",
      "|   230|     13|   3.0|\n",
      "|   230|     16|   4.0|\n",
      "|   230|     32|   4.0|\n",
      "|   230|     34|   3.5|\n",
      "|   230|     44|   2.0|\n",
      "|   230|     47|   4.0|\n",
      "|   230|     48|   3.0|\n",
      "|   230|     50|   4.0|\n",
      "|   230|     62|   3.0|\n",
      "|   230|    110|   3.5|\n",
      "|   230|    111|   5.0|\n",
      "|   230|    150|   3.5|\n",
      "|   230|    153|   2.5|\n",
      "|   230|    158|   2.5|\n",
      "|   230|    215|   4.0|\n",
      "|   230|    216|   1.5|\n",
      "+------+-------+------+\n",
      "only showing top 20 rows\n",
      "\n"
     ]
    }
   ],
   "source": [
    "ratings = ratings.withColumnRenamed('user_id', 'userId')\n",
    "ratings.show()"
   ]
  },
  {
   "cell_type": "code",
   "execution_count": 13,
   "metadata": {},
   "outputs": [
    {
     "data": {
      "text/plain": [
       "458970"
      ]
     },
     "execution_count": 13,
     "metadata": {},
     "output_type": "execute_result"
    }
   ],
   "source": [
    "ratings.count()"
   ]
  },
  {
   "cell_type": "markdown",
   "metadata": {},
   "source": [
    "## Training Model"
   ]
  },
  {
   "cell_type": "code",
   "execution_count": 14,
   "metadata": {},
   "outputs": [],
   "source": [
    "(training, test) = ratings.randomSplit([0.8, 0.2])"
   ]
  },
  {
   "cell_type": "code",
   "execution_count": 15,
   "metadata": {},
   "outputs": [],
   "source": [
    "# build the recommendation model using ALS on the training data\n",
    "# note that we set cold start strategy to 'drop' to ensure we don't get NaN evaluation metrics\n",
    "als = ALS(maxIter=5, regParam=0.01, userCol=\"userId\", itemCol=\"movieId\", ratingCol=\"rating\",\n",
    "          coldStartStrategy=\"drop\")\n",
    "model = als.fit(training)"
   ]
  },
  {
   "cell_type": "code",
   "execution_count": 16,
   "metadata": {},
   "outputs": [
    {
     "name": "stdout",
     "output_type": "stream",
     "text": [
      "Root-mean-square error = 0.8542321969167205\n"
     ]
    }
   ],
   "source": [
    "# evaluate the model by computing the RMSE on the test data\n",
    "predictions = model.transform(test)\n",
    "evaluator = RegressionEvaluator(metricName=\"rmse\", labelCol=\"rating\",\n",
    "                                predictionCol=\"prediction\")\n",
    "rmse = evaluator.evaluate(predictions)\n",
    "print(\"Root-mean-square error = \" + str(rmse))"
   ]
  },
  {
   "cell_type": "code",
   "execution_count": 17,
   "metadata": {},
   "outputs": [
    {
     "name": "stdout",
     "output_type": "stream",
     "text": [
      "+------+--------------------+\n",
      "|userId|     recommendations|\n",
      "+------+--------------------+\n",
      "|   471|[[6896, 7.4664564...|\n",
      "|   463|[[4272, 7.322896]...|\n",
      "|   833|[[26578, 7.628948...|\n",
      "|   496|[[8753, 7.0246115...|\n",
      "|   148|[[4624, 10.078892...|\n",
      "|   540|[[4256, 6.3422856...|\n",
      "|   392|[[4256, 7.5171585...|\n",
      "|   243|[[4624, 8.467705]...|\n",
      "|   623|[[4278, 6.685036]...|\n",
      "|   737|[[66596, 6.249056...|\n",
      "|    31|[[146327, 8.65950...|\n",
      "|   516|[[4256, 6.5958443...|\n",
      "|   580|[[147326, 5.93386...|\n",
      "|   251|[[4256, 8.071559]...|\n",
      "|   451|[[6452, 6.499717]...|\n",
      "|    85|[[47084, 5.214213...|\n",
      "|   137|[[4256, 7.368866]...|\n",
      "|   808|[[4278, 6.868102]...|\n",
      "|    65|[[4664, 8.059678]...|\n",
      "|   458|[[3645, 9.144505]...|\n",
      "+------+--------------------+\n",
      "only showing top 20 rows\n",
      "\n"
     ]
    }
   ],
   "source": [
    "# generate top 10 movie recommendations for each user\n",
    "userRecs = model.recommendForAllUsers(10)\n",
    "userRecs.show()"
   ]
  },
  {
   "cell_type": "code",
   "execution_count": 18,
   "metadata": {},
   "outputs": [
    {
     "name": "stdout",
     "output_type": "stream",
     "text": [
      "+-------+--------------------+\n",
      "|movieId|     recommendations|\n",
      "+-------+--------------------+\n",
      "|   1580|[[776, 5.290246],...|\n",
      "|   4900|[[387, 5.982214],...|\n",
      "|   5300|[[123, 5.9196143]...|\n",
      "|   6620|[[98, 5.716596], ...|\n",
      "|   7340|[[443, 5.2419133]...|\n",
      "|  30970|[[783, 8.108435],...|\n",
      "|  32460|[[153, 7.053493],...|\n",
      "|  54190|[[87, 5.987054], ...|\n",
      "|  57370|[[776, 7.081197],...|\n",
      "|  83250|[[801, 6.047843],...|\n",
      "|    471|[[757, 5.6838865]...|\n",
      "|   1591|[[776, 5.812383],...|\n",
      "|   1342|[[776, 7.763584],...|\n",
      "|   2122|[[165, 7.81], [26...|\n",
      "|   2142|[[757, 8.350384],...|\n",
      "|   7982|[[757, 10.738288]...|\n",
      "|  33722|[[757, 8.286456],...|\n",
      "|  44022|[[774, 5.0817885]...|\n",
      "| 141422|[[87, 9.044266], ...|\n",
      "| 144522|[[776, 5.3771777]...|\n",
      "+-------+--------------------+\n",
      "only showing top 20 rows\n",
      "\n"
     ]
    }
   ],
   "source": [
    "# generate top 10 user recommendations for each movie\n",
    "movieRecs = model.recommendForAllItems(10)\n",
    "movieRecs.show()"
   ]
  },
  {
   "cell_type": "markdown",
   "metadata": {},
   "source": [
    "## References"
   ]
  },
  {
   "cell_type": "markdown",
   "metadata": {},
   "source": [
    "1. https://grouplens.org/datasets/learning-from-sets-of-items-2019/\n",
    "2. https://spark.apache.org/docs/latest/ml-collaborative-filtering.html"
   ]
  }
 ],
 "metadata": {
  "kernelspec": {
   "display_name": "Python 3",
   "language": "python",
   "name": "python3"
  },
  "language_info": {
   "codemirror_mode": {
    "name": "ipython",
    "version": 3
   },
   "file_extension": ".py",
   "mimetype": "text/x-python",
   "name": "python",
   "nbconvert_exporter": "python",
   "pygments_lexer": "ipython3",
   "version": "3.5.4"
  }
 },
 "nbformat": 4,
 "nbformat_minor": 2
}
