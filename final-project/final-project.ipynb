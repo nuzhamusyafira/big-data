{
 "cells": [
  {
   "cell_type": "markdown",
   "metadata": {},
   "source": [
    "## Data Pre-processing and Cleaning"
   ]
  },
  {
   "cell_type": "code",
   "execution_count": 1,
   "metadata": {},
   "outputs": [],
   "source": [
    "# import findspark\n",
    "import findspark\n",
    "findspark.init()"
   ]
  },
  {
   "cell_type": "code",
   "execution_count": 2,
   "metadata": {},
   "outputs": [],
   "source": [
    "# import SparkSession\n",
    "from pyspark.sql import SparkSession"
   ]
  },
  {
   "cell_type": "code",
   "execution_count": 3,
   "metadata": {},
   "outputs": [],
   "source": [
    "# create session\n",
    "spark = SparkSession \\\n",
    "    .builder \\\n",
    "    .appName(\"Python Spark Clustering example\") \\\n",
    "    .getOrCreate()"
   ]
  },
  {
   "cell_type": "code",
   "execution_count": 4,
   "metadata": {},
   "outputs": [
    {
     "name": "stdout",
     "output_type": "stream",
     "text": [
      "<pyspark.sql.session.SparkSession object at 0x000000EC98870F28>\n"
     ]
    }
   ],
   "source": [
    "print(spark)"
   ]
  },
  {
   "cell_type": "code",
   "execution_count": 5,
   "metadata": {},
   "outputs": [],
   "source": [
    "# read dataset\n",
    "df = spark.read.csv(\"crime.csv\", header=True, inferSchema=True)"
   ]
  },
  {
   "cell_type": "code",
   "execution_count": 6,
   "metadata": {},
   "outputs": [
    {
     "data": {
      "text/plain": [
       "Row(INCIDENT_ID=2016376978, OFFENSE_ID=2016376978521300, OFFENSE_CODE=5213, OFFENSE_CODE_EXTENSION=0, OFFENSE_TYPE_ID='weapon-unlawful-discharge-of', OFFENSE_CATEGORY_ID='all-other-crimes', FIRST_OCCURRENCE_DATE='6/15/2016 11:31:00 PM', LAST_OCCURRENCE_DATE=None, REPORTED_DATE='6/15/2016 11:31:00 PM', INCIDENT_ADDRESS=None, GEO_X=3193983, GEO_Y=1707251, GEO_LON=-104.8098811, GEO_LAT=39.773188, DISTRICT_ID=5, PRECINCT_ID=521, NEIGHBORHOOD_ID='montbello', IS_CRIME=1, IS_TRAFFIC=0)"
      ]
     },
     "execution_count": 6,
     "metadata": {},
     "output_type": "execute_result"
    }
   ],
   "source": [
    "# find out attributes\n",
    "df.head()"
   ]
  },
  {
   "cell_type": "code",
   "execution_count": 7,
   "metadata": {},
   "outputs": [
    {
     "data": {
      "text/plain": [
       "StructType(List(StructField(INCIDENT_ID,LongType,true),StructField(OFFENSE_ID,LongType,true),StructField(OFFENSE_CODE,IntegerType,true),StructField(OFFENSE_CODE_EXTENSION,IntegerType,true),StructField(OFFENSE_TYPE_ID,StringType,true),StructField(OFFENSE_CATEGORY_ID,StringType,true),StructField(FIRST_OCCURRENCE_DATE,StringType,true),StructField(LAST_OCCURRENCE_DATE,StringType,true),StructField(REPORTED_DATE,StringType,true),StructField(INCIDENT_ADDRESS,StringType,true),StructField(GEO_X,IntegerType,true),StructField(GEO_Y,IntegerType,true),StructField(GEO_LON,DoubleType,true),StructField(GEO_LAT,DoubleType,true),StructField(DISTRICT_ID,IntegerType,true),StructField(PRECINCT_ID,IntegerType,true),StructField(NEIGHBORHOOD_ID,StringType,true),StructField(IS_CRIME,IntegerType,true),StructField(IS_TRAFFIC,IntegerType,true)))"
      ]
     },
     "execution_count": 7,
     "metadata": {},
     "output_type": "execute_result"
    }
   ],
   "source": [
    "# find out each schema\n",
    "df.schema"
   ]
  },
  {
   "cell_type": "code",
   "execution_count": 8,
   "metadata": {},
   "outputs": [
    {
     "data": {
      "text/plain": [
       "483347"
      ]
     },
     "execution_count": 8,
     "metadata": {},
     "output_type": "execute_result"
    }
   ],
   "source": [
    "df.count()"
   ]
  },
  {
   "cell_type": "code",
   "execution_count": 9,
   "metadata": {},
   "outputs": [
    {
     "data": {
      "text/plain": [
       "Row(INCIDENT_ID=2016376978, GEO_LAT=39.773188, GEO_LON=-104.8098811)"
      ]
     },
     "execution_count": 9,
     "metadata": {},
     "output_type": "execute_result"
    }
   ],
   "source": [
    "df_selected = df.select('INCIDENT_ID', 'GEO_LAT', 'GEO_LON')\n",
    "df_selected.head()"
   ]
  },
  {
   "cell_type": "code",
   "execution_count": 10,
   "metadata": {},
   "outputs": [
    {
     "data": {
      "text/plain": [
       "483347"
      ]
     },
     "execution_count": 10,
     "metadata": {},
     "output_type": "execute_result"
    }
   ],
   "source": [
    "df_selected.count()"
   ]
  },
  {
   "cell_type": "code",
   "execution_count": 11,
   "metadata": {},
   "outputs": [],
   "source": [
    "# create alias table to work on as 'crimes'\n",
    "df_selected.createOrReplaceTempView(\"crimes\")"
   ]
  },
  {
   "cell_type": "code",
   "execution_count": 12,
   "metadata": {},
   "outputs": [
    {
     "data": {
      "text/plain": [
       "483347"
      ]
     },
     "execution_count": 12,
     "metadata": {},
     "output_type": "execute_result"
    }
   ],
   "source": [
    "query1 = spark.sql(\"SELECT *\\\n",
    "                    FROM crimes\")\n",
    "query1.count()"
   ]
  },
  {
   "cell_type": "code",
   "execution_count": 13,
   "metadata": {},
   "outputs": [
    {
     "data": {
      "text/plain": [
       "442461"
      ]
     },
     "execution_count": 13,
     "metadata": {},
     "output_type": "execute_result"
    }
   ],
   "source": [
    "query1 = spark.sql(\"SELECT DISTINCT *\\\n",
    "                    FROM crimes\").na.drop()\n",
    "query1.count()"
   ]
  },
  {
   "cell_type": "code",
   "execution_count": 14,
   "metadata": {},
   "outputs": [],
   "source": [
    "# import pandas\n",
    "import pandas as pd"
   ]
  },
  {
   "cell_type": "code",
   "execution_count": 15,
   "metadata": {},
   "outputs": [],
   "source": [
    "# convert the result into pandas dataframe then save it as single csv file\n",
    "pd_query1 = query1.toPandas()\n",
    "pd_query1.to_csv(\"C:/big-data/final-project/crime_preprocessed.csv\", index=False)"
   ]
  },
  {
   "cell_type": "markdown",
   "metadata": {},
   "source": [
    "## Clustering and Visualization"
   ]
  },
  {
   "cell_type": "code",
   "execution_count": 16,
   "metadata": {},
   "outputs": [
    {
     "data": {
      "text/plain": [
       "Row(INCIDENT_ID=201872754, GEO_LAT=39.7280757, GEO_LON=-104.9904797)"
      ]
     },
     "execution_count": 16,
     "metadata": {},
     "output_type": "execute_result"
    }
   ],
   "source": [
    "# read new dataset\n",
    "df = spark.read.csv(\"crime_preprocessed.csv\", header=True, inferSchema=True)\n",
    "df.head()"
   ]
  },
  {
   "cell_type": "code",
   "execution_count": 17,
   "metadata": {},
   "outputs": [
    {
     "data": {
      "text/plain": [
       "StructType(List(StructField(INCIDENT_ID,LongType,true),StructField(GEO_LAT,DoubleType,true),StructField(GEO_LON,DoubleType,true)))"
      ]
     },
     "execution_count": 17,
     "metadata": {},
     "output_type": "execute_result"
    }
   ],
   "source": [
    "df.schema"
   ]
  },
  {
   "cell_type": "code",
   "execution_count": 18,
   "metadata": {},
   "outputs": [],
   "source": [
    "# create alias table to work on as 'crimes'\n",
    "df.createOrReplaceTempView(\"crimes\")"
   ]
  },
  {
   "cell_type": "code",
   "execution_count": 19,
   "metadata": {},
   "outputs": [
    {
     "name": "stdout",
     "output_type": "stream",
     "text": [
      "+-----------+----------+------------+\n",
      "|INCIDENT_ID|   GEO_LAT|     GEO_LON|\n",
      "+-----------+----------+------------+\n",
      "|  201872754|39.7280757|-104.9904797|\n",
      "| 2018160078|39.7010384|-104.9411546|\n",
      "|20188000138|39.8063801|-104.7835494|\n",
      "|  201873363|39.7419576|-104.9998593|\n",
      "|20186002182|39.6910538|-105.0075138|\n",
      "| 2018158702|39.7398975| -104.987485|\n",
      "| 2018135501| 39.660673|-105.0583917|\n",
      "| 2018135535|39.7394277|-104.8927758|\n",
      "| 2018135170|39.6276828|-104.8978601|\n",
      "| 2018121073|39.7400317|-104.9730966|\n",
      "|  201856594|39.7541424|-104.9893015|\n",
      "| 2018121832|39.7841834|-104.7951591|\n",
      "| 2018122630|39.7609489|-105.0043337|\n",
      "|20186000435|39.7898232|-104.9959236|\n",
      "|   20186331| 39.800103|-104.7721177|\n",
      "|20186002300| 39.676926|-105.0002765|\n",
      "| 2018234862|39.7338946|-105.0552142|\n",
      "| 2018226102|39.7489126|-104.9873978|\n",
      "|20186003257|39.6936244|-104.9766113|\n",
      "|   20182905|39.7733189|-104.8492671|\n",
      "+-----------+----------+------------+\n",
      "only showing top 20 rows\n",
      "\n"
     ]
    }
   ],
   "source": [
    "query1 = spark.sql(\"SELECT INCIDENT_ID, GEO_LAT, GEO_LON\\\n",
    "                    FROM crimes\")\n",
    "query1.show()"
   ]
  },
  {
   "cell_type": "code",
   "execution_count": 20,
   "metadata": {},
   "outputs": [
    {
     "data": {
      "text/plain": [
       "442461"
      ]
     },
     "execution_count": 20,
     "metadata": {},
     "output_type": "execute_result"
    }
   ],
   "source": [
    "query1.count()"
   ]
  },
  {
   "cell_type": "code",
   "execution_count": 21,
   "metadata": {},
   "outputs": [
    {
     "name": "stdout",
     "output_type": "stream",
     "text": [
      "+-----------+----------+------------+--------------------+\n",
      "|INCIDENT_ID|   GEO_LAT|     GEO_LON|            features|\n",
      "+-----------+----------+------------+--------------------+\n",
      "|  201872754|39.7280757|-104.9904797|[39.7280757,-104....|\n",
      "| 2018160078|39.7010384|-104.9411546|[39.7010384,-104....|\n",
      "|20188000138|39.8063801|-104.7835494|[39.8063801,-104....|\n",
      "|  201873363|39.7419576|-104.9998593|[39.7419576,-104....|\n",
      "|20186002182|39.6910538|-105.0075138|[39.6910538,-105....|\n",
      "| 2018158702|39.7398975| -104.987485|[39.7398975,-104....|\n",
      "| 2018135501| 39.660673|-105.0583917|[39.660673,-105.0...|\n",
      "| 2018135535|39.7394277|-104.8927758|[39.7394277,-104....|\n",
      "| 2018135170|39.6276828|-104.8978601|[39.6276828,-104....|\n",
      "| 2018121073|39.7400317|-104.9730966|[39.7400317,-104....|\n",
      "|  201856594|39.7541424|-104.9893015|[39.7541424,-104....|\n",
      "| 2018121832|39.7841834|-104.7951591|[39.7841834,-104....|\n",
      "| 2018122630|39.7609489|-105.0043337|[39.7609489,-105....|\n",
      "|20186000435|39.7898232|-104.9959236|[39.7898232,-104....|\n",
      "|   20186331| 39.800103|-104.7721177|[39.800103,-104.7...|\n",
      "|20186002300| 39.676926|-105.0002765|[39.676926,-105.0...|\n",
      "| 2018234862|39.7338946|-105.0552142|[39.7338946,-105....|\n",
      "| 2018226102|39.7489126|-104.9873978|[39.7489126,-104....|\n",
      "|20186003257|39.6936244|-104.9766113|[39.6936244,-104....|\n",
      "|   20182905|39.7733189|-104.8492671|[39.7733189,-104....|\n",
      "+-----------+----------+------------+--------------------+\n",
      "only showing top 20 rows\n",
      "\n"
     ]
    }
   ],
   "source": [
    "# because pyspark.ml only reads input in vector, we're gonna\n",
    "# need to convert latitude and longitude into vector\n",
    "from pyspark.ml.feature import VectorAssembler\n",
    "\n",
    "assembler = VectorAssembler(\n",
    "    inputCols=[\"GEO_LAT\", \"GEO_LON\"],\n",
    "    outputCol='features')\n",
    "\n",
    "query1 = assembler.transform(query1)\n",
    "query1.show()"
   ]
  },
  {
   "cell_type": "code",
   "execution_count": 22,
   "metadata": {},
   "outputs": [],
   "source": [
    "# before we predict each sample, we need to train model to cluster\n",
    "# setK indicates the number of clusters we would like to have,\n",
    "# and setSeed is to set the level of randomness\n",
    "from pyspark.ml.clustering import KMeans\n",
    "from pyspark.ml.evaluation import ClusteringEvaluator\n",
    "\n",
    "kmeans = KMeans().setK(9).setSeed(1)\n",
    "model = kmeans.fit(query1)"
   ]
  },
  {
   "cell_type": "code",
   "execution_count": 23,
   "metadata": {},
   "outputs": [
    {
     "name": "stdout",
     "output_type": "stream",
     "text": [
      "+-----------+----------+------------+--------------------+----------+\n",
      "|INCIDENT_ID|   GEO_LAT|     GEO_LON|            features|prediction|\n",
      "+-----------+----------+------------+--------------------+----------+\n",
      "|  201872754|39.7280757|-104.9904797|[39.7280757,-104....|         5|\n",
      "| 2018160078|39.7010384|-104.9411546|[39.7010384,-104....|         8|\n",
      "|20188000138|39.8063801|-104.7835494|[39.8063801,-104....|         4|\n",
      "|  201873363|39.7419576|-104.9998593|[39.7419576,-104....|         5|\n",
      "|20186002182|39.6910538|-105.0075138|[39.6910538,-105....|         0|\n",
      "| 2018158702|39.7398975| -104.987485|[39.7398975,-104....|         5|\n",
      "| 2018135501| 39.660673|-105.0583917|[39.660673,-105.0...|         6|\n",
      "| 2018135535|39.7394277|-104.8927758|[39.7394277,-104....|         2|\n",
      "| 2018135170|39.6276828|-104.8978601|[39.6276828,-104....|         7|\n",
      "| 2018121073|39.7400317|-104.9730966|[39.7400317,-104....|         5|\n",
      "|  201856594|39.7541424|-104.9893015|[39.7541424,-104....|         5|\n",
      "| 2018121832|39.7841834|-104.7951591|[39.7841834,-104....|         4|\n",
      "| 2018122630|39.7609489|-105.0043337|[39.7609489,-105....|         3|\n",
      "|20186000435|39.7898232|-104.9959236|[39.7898232,-104....|         5|\n",
      "|   20186331| 39.800103|-104.7721177|[39.800103,-104.7...|         4|\n",
      "|20186002300| 39.676926|-105.0002765|[39.676926,-105.0...|         0|\n",
      "| 2018234862|39.7338946|-105.0552142|[39.7338946,-105....|         3|\n",
      "| 2018226102|39.7489126|-104.9873978|[39.7489126,-104....|         5|\n",
      "|20186003257|39.6936244|-104.9766113|[39.6936244,-104....|         8|\n",
      "|   20182905|39.7733189|-104.8492671|[39.7733189,-104....|         2|\n",
      "+-----------+----------+------------+--------------------+----------+\n",
      "only showing top 20 rows\n",
      "\n"
     ]
    }
   ],
   "source": [
    "# predict and show result\n",
    "predictions = model.transform(query1)\n",
    "predictions.show()"
   ]
  },
  {
   "cell_type": "code",
   "execution_count": 24,
   "metadata": {},
   "outputs": [
    {
     "name": "stdout",
     "output_type": "stream",
     "text": [
      "Cluster Centers: \n",
      "[  39.70225565 -105.01477399]\n",
      "[ 1.97380388e-02 -2.39276316e-06]\n",
      "[  39.7623903  -104.88463562]\n",
      "[  39.75549371 -105.0263742 ]\n",
      "[  39.80246576 -104.75816426]\n",
      "[  39.74799273 -104.98031865]\n",
      "[  39.65784151 -105.05837386]\n",
      "[  39.66146771 -104.89591159]\n",
      "[  39.7010466  -104.94111587]\n"
     ]
    }
   ],
   "source": [
    "# show the final centroids of each cluster\n",
    "centers = model.clusterCenters()\n",
    "print(\"Cluster Centers: \")\n",
    "for center in centers:\n",
    "    print(center)"
   ]
  },
  {
   "cell_type": "code",
   "execution_count": null,
   "metadata": {},
   "outputs": [],
   "source": []
  }
 ],
 "metadata": {
  "kernelspec": {
   "display_name": "Python 3",
   "language": "python",
   "name": "python3"
  },
  "language_info": {
   "codemirror_mode": {
    "name": "ipython",
    "version": 3
   },
   "file_extension": ".py",
   "mimetype": "text/x-python",
   "name": "python",
   "nbconvert_exporter": "python",
   "pygments_lexer": "ipython3",
   "version": "3.5.4"
  }
 },
 "nbformat": 4,
 "nbformat_minor": 2
}
